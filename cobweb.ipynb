{
 "cells": [
  {
   "cell_type": "markdown",
   "id": "e6d6f10d-8223-4d55-9ff2-f7b6c50082a6",
   "metadata": {},
   "source": [
    "# The Cobweb Model"
   ]
  },
  {
   "cell_type": "markdown",
   "id": "de1d1f16-141a-441d-824c-5c4338b44276",
   "metadata": {},
   "source": [
    "The cobweb model is a model of prices and quantities in a given market --- let's say, a market for soy beans.\n",
    "\n",
    "The model dates back to the 1930s [add references] \n",
    "\n",
    "Although the model is quite old and rather simple, it helps build economic understanding because of its focus on expectations.\n",
    "\n",
    "One aspect of the model is that soy beans cannot be produced instantaneously.\n",
    "\n",
    "Due to this \"production lag\", sellers need to forecast the prices they expect to hold when their soy beans are ready to take to the market.\n",
    "\n",
    "This informational friction can cause complicated dynamics.\n",
    "\n",
    "Here we investigate and simulate the basic model under different assumptions regarding the way that produces form expectations.\n",
    "\n",
    "Our discussion and simulations draw on [high quality lectures](https://comp-econ.org/CEF_2013/downloads/Complex%20Econ%20Systems%20Lecture%20II.pdf) by [Cars Hommes](https://www.uva.nl/en/profile/h/o/c.h.hommes/c.h.hommes.html).\n",
    "\n",
    "We will use the following imports:\n"
   ]
  },
  {
   "cell_type": "code",
   "execution_count": 1,
   "id": "a0ae4df6-f5b0-43db-9278-dde3336403fb",
   "metadata": {},
   "outputs": [],
   "source": [
    "import numpy as np\n",
    "import matplotlib.pyplot as plt"
   ]
  },
  {
   "cell_type": "markdown",
   "id": "48eb8c13-21a9-4ab2-811c-00be8b87f2e3",
   "metadata": {},
   "source": [
    "## The Model\n",
    "\n",
    "Suppose demand for soy beans is given by\n",
    "\n",
    "$$\n",
    "    D(p_t) = a - b p_t\n",
    "$$\n",
    "\n",
    "where $a, b$ are nonnegative constants and $p_t$ is the spot (i.e, current market) price at time $t$.\n",
    "\n",
    "($D(p_t)$ is the quantity demanded in some fixed unit, such as thousands of tons.)\n",
    "\n",
    "Supply of soy beans depends on *expected* prices at time $t$, which we denote $p^e_t$.\n",
    "\n",
    "We suppose that supply is nonlinear in expected prices, and takes the form\n",
    "\n",
    "$$\n",
    "    S(p^e_t) = \\tanh(\\lambda(p^e_t - c)) + d\n",
    "$$\n",
    "\n",
    "where $\\lambda$ is a positive constant and $c, d \\geq 0$.\n",
    "\n",
    "Let's make a plot of supply and demand for particular choices of the parameter values.\n",
    "\n",
    "We will store the parameters in a class and define the functions above as methods."
   ]
  },
  {
   "cell_type": "code",
   "execution_count": 18,
   "id": "dbd933f8-5618-4046-88f8-7e1f06cc9ede",
   "metadata": {},
   "outputs": [],
   "source": [
    "class Market:\n",
    "    \n",
    "    def __init__(self,\n",
    "                 a=8,      # demand parameter\n",
    "                 b=1,      # demand parameter\n",
    "                 c=6,      # supply parameter\n",
    "                 d=1,      # supply parameter\n",
    "                 λ = 2.0): # supply parameter\n",
    "        self.a, self.b, self.c, self.d = a, b, c, d\n",
    "        self.λ = λ\n",
    "    \n",
    "    def demand(self, p):\n",
    "        a, b = self.a, self.b\n",
    "        return a - b * p\n",
    "    \n",
    "    def supply(self, p):\n",
    "        c, d, λ = self.c, self.d, self.λ\n",
    "        return np.tanh(λ * (p - c)) + d\n"
   ]
  },
  {
   "cell_type": "markdown",
   "id": "ec14c952-5b45-46b2-9404-fe6f172d28cb",
   "metadata": {},
   "source": [
    "Here's the plot."
   ]
  },
  {
   "cell_type": "code",
   "execution_count": 20,
   "id": "125fdf2e-860d-49ca-b307-d7f3b4b3f8ee",
   "metadata": {},
   "outputs": [
    {
     "data": {
      "image/png": "[encoded data removed]",
      "text/plain": [
       "<Figure size 640x480 with 1 Axes>"
      ]
     },
     "metadata": {},
     "output_type": "display_data"
    }
   ],
   "source": [
    "p_grid = np.linspace(5, 8, 200)\n",
    "m = Market()\n",
    "fig, ax = plt.subplots()\n",
    "\n",
    "ax.plot(p_grid, m.demand(p_grid), label=\"$D$\")\n",
    "ax.plot(p_grid, m.supply(p_grid), label=\"S\")\n",
    "ax.legend()\n",
    "\n",
    "plt.show()"
   ]
  },
  {
   "cell_type": "markdown",
   "id": "f66123e9-c6f9-4b97-ac6f-5fa0b4df025a",
   "metadata": {},
   "source": [
    "Market equilibrium requires that supply equals demand, or\n",
    "\n",
    "$$\n",
    "    a - b p_t = S(p^e_t)\n",
    "$$\n",
    "\n",
    "Rewriting in terms of $p_t$ gives\n",
    "\n",
    "$$\n",
    "    p_t = - \\frac{1}{b} [S(p^e_t) - a]\n",
    "$$\n",
    "\n",
    "Finally, to complete the model, we need to describe how price expectations are formed.\n",
    "\n",
    "For now, let's just assume that expected prices at time $t$ depend on past prices.\n",
    "\n",
    "In particular, we suppose that \n",
    "\n",
    "$$\n",
    "    p^e_t = f(p_{t-1}, p_{t-2})\n",
    "$$\n",
    "\n",
    "where $f$ is some function.\n",
    "\n",
    "Thus, we are assuming that producers expect the time-$t$ price to be some function of lagged prices, up to $2$ lags.\n",
    "\n",
    "(We could of course add additional lags and readers are encouraged to experiment with such cases.)\n",
    "\n",
    "Combining the last two equations gives the dynamics for prices:\n",
    "\n",
    "$$\n",
    "    p_t = - \\frac{1}{b} [ S(f(p_{t-1}, p_{t-2}))) - a]\n",
    "$$\n",
    "\n",
    "The price dynamics depend on the parameter values and also on the function $f$ that tells us how producers form expectations.\n",
    "\n"
   ]
  },
  {
   "cell_type": "markdown",
   "id": "4e77baf5-92f6-4e2a-8638-fc9501048474",
   "metadata": {},
   "source": [
    "## Naive Expectations\n",
    "\n",
    "Naive expectations refers to the case where producers expect the next period spot price to be whatever the price is in the current period.\n",
    "\n",
    "In other words,\n",
    "\n",
    "$$ p_t^e = p_{t-1} $$\n",
    "\n",
    "TODO Simulate and discuss.  Try to explain the dynamics as much as possible.  Use a 45 degree diagram.  "
   ]
  },
  {
   "cell_type": "markdown",
   "id": "bccf9a3f-c725-40cb-8a33-627eabbf98fe",
   "metadata": {},
   "source": [
    "## Adaptive Expectations\n",
    "\n",
    "Adaptive expectations refers to the case where producers form expectations for the next period price as a weighted average of their last guess and the current spot price.\n",
    "\n",
    "That is,\n",
    "\n",
    "$$ p_t^e = \\alpha p_{t-1} + (1-\\alpha) p^e_{t-1} $$\n",
    "\n",
    "TODO Simulate and discuss.  Try to explain the dynamics as much as possible.  "
   ]
  },
  {
   "cell_type": "markdown",
   "id": "a86873b1-6972-4745-88c7-06f93e532a0b",
   "metadata": {},
   "source": [
    "## Exercises\n",
    "\n",
    "Add some exercises and solutions."
   ]
  },
  {
   "cell_type": "code",
   "execution_count": null,
   "id": "a6592ad2-5dd7-4318-b58d-0cbd03e97545",
   "metadata": {},
   "outputs": [],
   "source": []
  }
 ],
 "metadata": {
  "kernelspec": {
   "display_name": "Python 3 (ipykernel)",
   "language": "python",
   "name": "python3"
  },
  "language_info": {
   "codemirror_mode": {
    "name": "ipython",
    "version": 3
   },
   "file_extension": ".py",
   "mimetype": "text/x-python",
   "name": "python",
   "nbconvert_exporter": "python",
   "pygments_lexer": "ipython3",
   "version": "3.9.12"
  }
 },
 "nbformat": 4,
 "nbformat_minor": 5
}
