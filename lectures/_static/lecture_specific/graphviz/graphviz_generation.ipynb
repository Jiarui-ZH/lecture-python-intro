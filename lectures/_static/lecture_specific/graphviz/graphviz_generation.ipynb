{
 "cells": [
  {
   "cell_type": "markdown",
   "id": "ccd1c797-db85-4293-8436-0cd442d1d9ae",
   "metadata": {},
   "source": [
    "# Code for Graphviz Plots "
   ]
  },
  {
   "cell_type": "code",
   "execution_count": 1,
   "id": "6f6a377d-1fc8-4f2a-8e92-b550a7c92828",
   "metadata": {},
   "outputs": [
    {
     "name": "stdout",
     "output_type": "stream",
     "text": [
      "Requirement already satisfied: graphviz in /Users/humphreyyang/anaconda3/envs/quantecon/lib/python3.9/site-packages (0.20.1)\n"
     ]
    }
   ],
   "source": [
    "!pip install graphviz"
   ]
  },
  {
   "cell_type": "markdown",
   "id": "ad403a5a-868c-45ed-a360-a81aee9cfd38",
   "metadata": {},
   "source": [
    "```{admonition} graphviz\n",
    ":class: warning\n",
    "If you are running this lecture locally it requires [graphviz](https://www.graphviz.org)\n",
    "to be installed on your computer. Installation instructions for graphviz can be found\n",
    "[here](https://www.graphviz.org/download/) \n",
    "```"
   ]
  },
  {
   "cell_type": "code",
   "execution_count": 2,
   "id": "428161a2-e0d5-402e-bf16-1d1e460a30e7",
   "metadata": {},
   "outputs": [],
   "source": [
    "from graphviz import Digraph\n"
   ]
  },
  {
   "cell_type": "markdown",
   "id": "75d07327-0fcc-41f1-8d36-b8b8d4eb1060",
   "metadata": {},
   "source": [
    "## Lake Model"
   ]
  },
  {
   "cell_type": "code",
   "execution_count": 3,
   "id": "16e9379d-bf94-4c79-9a34-4dbc2cc41b0e",
   "metadata": {},
   "outputs": [
    {
     "data": {
      "text/plain": [
       "'../lake_model/lake_model_worker.png'"
      ]
     },
     "execution_count": 3,
     "metadata": {},
     "output_type": "execute_result"
    }
   ],
   "source": [
    "# Create Digraph object\n",
    "G = Digraph(format='png')\n",
    "G.attr(rankdir='LR')\n",
    "\n",
    "# Add nodes\n",
    "G.attr('node', shape='circle')\n",
    "G.node('1', 'New entrants', color='blue')\n",
    "G.node('2', 'Unemployed')\n",
    "G.node('3', 'Employed')\n",
    "\n",
    "# Add edges\n",
    "G.edge('1', '2', label='b')\n",
    "G.edge('2', '3', label='λ(1-d)')\n",
    "G.edge('3', '2', label='α(1-d)')\n",
    "G.edge('2', '2', label='(1-λ)(1-d)')\n",
    "G.edge('3', '3', label='(1-α)(1-d)')\n",
    "\n",
    "# Save Plot\n",
    "G.render(filename='../lake_model/lake_model_worker')"
   ]
  },
  {
   "cell_type": "markdown",
   "id": "194ca10b-dd02-4210-adbc-c2bb8b699d45",
   "metadata": {},
   "source": [
    "## Markov Chains I\n",
    "\n",
    "### Example 1\n",
    "\n",
    "Hamilton on US unemployment data"
   ]
  },
  {
   "cell_type": "code",
   "execution_count": 6,
   "id": "75e86ad6-d11c-4c36-920d-cbab0e3d97d2",
   "metadata": {},
   "outputs": [
    {
     "data": {
      "text/plain": [
       "'../markov_chains_I/Hamilton.png'"
      ]
     },
     "execution_count": 6,
     "metadata": {},
     "output_type": "execute_result"
    }
   ],
   "source": [
    "dot = Digraph(format='png')\n",
    "dot.attr(rankdir='LR')\n",
    "dot.node(\"ng\")\n",
    "dot.node(\"mr\")\n",
    "dot.node(\"sr\")\n",
    "\n",
    "dot.edge(\"ng\", \"ng\", label=\"0.971\")\n",
    "dot.edge(\"ng\", \"mr\", label=\"0.029\")\n",
    "dot.edge(\"mr\", \"ng\", label=\"0.145\")\n",
    "\n",
    "dot.edge(\"mr\", \"mr\", label=\"0.778\")\n",
    "dot.edge(\"mr\", \"sr\", label=\"0.077\")\n",
    "dot.edge(\"sr\", \"mr\", label=\"0.508\")\n",
    "\n",
    "dot.edge(\"sr\", \"sr\", label=\"0.492\")\n",
    "dot\n",
    "\n",
    "dot.render(filename='../markov_chains_I/Hamilton')"
   ]
  },
  {
   "cell_type": "markdown",
   "id": "1b7b4b45-f6a4-495d-9115-638aafe9acd8",
   "metadata": {},
   "source": [
    "### Exercise 1\n",
    "\n",
    "Solution 2:"
   ]
  },
  {
   "cell_type": "code",
   "execution_count": 5,
   "id": "46c4612f-3f8b-4c83-b02a-81fe67545e8f",
   "metadata": {},
   "outputs": [
    {
     "data": {
      "text/plain": [
       "'../markov_chains_I/Temple.png'"
      ]
     },
     "execution_count": 5,
     "metadata": {},
     "output_type": "execute_result"
    }
   ],
   "source": [
    "dot = Digraph(format='png')\n",
    "dot.attr(rankdir='LR')\n",
    "dot.node(\"Growth\")\n",
    "dot.node(\"Stagnation\")\n",
    "dot.node(\"Collapse\")\n",
    "\n",
    "dot.edge(\"Growth\", \"Growth\", label=\"0.68\")\n",
    "dot.edge(\"Growth\", \"Stagnation\", label=\"0.12\")\n",
    "dot.edge(\"Growth\", \"Collapse\", label=\"0.20\")\n",
    "\n",
    "dot.edge(\"Stagnation\", \"Stagnation\", label=\"0.24\")\n",
    "dot.edge(\"Stagnation\", \"Growth\", label=\"0.50\")\n",
    "dot.edge(\"Stagnation\", \"Collapse\", label=\"0.26\")\n",
    "\n",
    "dot.edge(\"Collapse\", \"Collapse\", label=\"0.46\")\n",
    "dot.edge(\"Collapse\", \"Stagnation\", label=\"0.18\")\n",
    "dot.edge(\"Collapse\", \"Growth\", label=\"0.36\")\n",
    "\n",
    "dot\n",
    "\n",
    "dot.render(filename='../markov_chains_I/Temple')"
   ]
  }
 ],
 "metadata": {
  "kernelspec": {
   "display_name": "Python 3 (ipykernel)",
   "language": "python",
   "name": "python3"
  },
  "language_info": {
   "codemirror_mode": {
    "name": "ipython",
    "version": 3
   },
   "file_extension": ".py",
   "mimetype": "text/x-python",
   "name": "python",
   "nbconvert_exporter": "python",
   "pygments_lexer": "ipython3",
   "version": "3.9.16"
  }
 },
 "nbformat": 4,
 "nbformat_minor": 5
}
