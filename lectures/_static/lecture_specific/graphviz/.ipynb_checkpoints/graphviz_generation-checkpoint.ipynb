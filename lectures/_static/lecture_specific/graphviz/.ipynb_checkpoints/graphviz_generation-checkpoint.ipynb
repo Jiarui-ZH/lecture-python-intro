{
 "cells": [
  {
   "cell_type": "markdown",
   "id": "ccd1c797-db85-4293-8436-0cd442d1d9ae",
   "metadata": {},
   "source": [
    "# Code for Graphviz Plots "
   ]
  },
  {
   "cell_type": "code",
   "execution_count": 1,
   "id": "6f6a377d-1fc8-4f2a-8e92-b550a7c92828",
   "metadata": {},
   "outputs": [
    {
     "name": "stdout",
     "output_type": "stream",
     "text": [
      "Requirement already satisfied: graphviz in /Users/humphreyyang/anaconda3/envs/quantecon/lib/python3.9/site-packages (0.20.1)\n"
     ]
    }
   ],
   "source": [
    "!pip install graphviz"
   ]
  },
  {
   "cell_type": "markdown",
   "id": "ad403a5a-868c-45ed-a360-a81aee9cfd38",
   "metadata": {},
   "source": [
    "```{admonition} graphviz\n",
    ":class: warning\n",
    "If you are running this lecture locally it requires [graphviz](https://www.graphviz.org)\n",
    "to be installed on your computer. Installation instructions for graphviz can be found\n",
    "[here](https://www.graphviz.org/download/) \n",
    "```"
   ]
  },
  {
   "cell_type": "code",
   "execution_count": 2,
   "id": "428161a2-e0d5-402e-bf16-1d1e460a30e7",
   "metadata": {},
   "outputs": [],
   "source": [
    "from graphviz import Digraph\n"
   ]
  },
  {
   "cell_type": "markdown",
   "id": "75d07327-0fcc-41f1-8d36-b8b8d4eb1060",
   "metadata": {},
   "source": [
    "## Lake Model"
   ]
  },
  {
   "cell_type": "code",
   "execution_count": 12,
   "id": "16e9379d-bf94-4c79-9a34-4dbc2cc41b0e",
   "metadata": {},
   "outputs": [
    {
     "data": {
      "text/plain": [
       "'../lake_model/lake_model_worker.png'"
      ]
     },
     "execution_count": 12,
     "metadata": {},
     "output_type": "execute_result"
    }
   ],
   "source": [
    "# Create Digraph object\n",
    "G = Digraph(format='png')\n",
    "G.attr(rankdir='LR')\n",
    "\n",
    "# Add nodes\n",
    "G.attr('node', shape='circle')\n",
    "G.node('1', 'New entrants', color='blue')\n",
    "G.node('2', 'Unemployed')\n",
    "G.node('3', 'Employed')\n",
    "\n",
    "# Add edges\n",
    "G.edge('1', '2', label='b')\n",
    "G.edge('2', '3', label='λ(1-d)')\n",
    "G.edge('3', '2', label='α(1-d)')\n",
    "G.edge('2', '2', label='(1-λ)(1-d)')\n",
    "G.edge('3', '3', label='(1-α)(1-d)')\n",
    "\n",
    "# Show graphviz\n",
    "G.render(filename='../lake_model/lake_model_worker')"
   ]
  }
 ],
 "metadata": {
  "kernelspec": {
   "display_name": "Python 3 (ipykernel)",
   "language": "python",
   "name": "python3"
  },
  "language_info": {
   "codemirror_mode": {
    "name": "ipython",
    "version": 3
   },
   "file_extension": ".py",
   "mimetype": "text/x-python",
   "name": "python",
   "nbconvert_exporter": "python",
   "pygments_lexer": "ipython3",
   "version": "3.9.16"
  }
 },
 "nbformat": 4,
 "nbformat_minor": 5
}
