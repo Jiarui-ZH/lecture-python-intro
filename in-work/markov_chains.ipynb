{
 "cells": [
  {
   "cell_type": "markdown",
   "id": "ce8162ca",
   "metadata": {},
   "source": [
    "\n",
    "# Markov Chains \n",
    "\n",
    "In addition to what's in Anaconda, this lecture will need the following libraries:"
   ]
  },
  {
   "cell_type": "code",
   "execution_count": 1,
   "id": "c7faa3a2-8f68-4925-8e5d-f3ab8ba1a2cb",
   "metadata": {},
   "outputs": [
    {
     "name": "stdout",
     "output_type": "stream",
     "text": [
      "Requirement already satisfied: quantecon in /Users/humphreyyang/anaconda3/envs/quantecon/lib/python3.9/site-packages (0.6.0)\n",
      "Requirement already satisfied: numpy>=1.17.0 in /Users/humphreyyang/anaconda3/envs/quantecon/lib/python3.9/site-packages (from quantecon) (1.23.5)\n",
      "Requirement already satisfied: requests in /Users/humphreyyang/anaconda3/envs/quantecon/lib/python3.9/site-packages (from quantecon) (2.28.1)\n",
      "Requirement already satisfied: scipy>=1.5.0 in /Users/humphreyyang/anaconda3/envs/quantecon/lib/python3.9/site-packages (from quantecon) (1.9.3)\n",
      "Requirement already satisfied: sympy in /Users/humphreyyang/anaconda3/envs/quantecon/lib/python3.9/site-packages (from quantecon) (1.11.1)\n",
      "Requirement already satisfied: numba in /Users/humphreyyang/anaconda3/envs/quantecon/lib/python3.9/site-packages (from quantecon) (0.56.4)\n",
      "Requirement already satisfied: llvmlite<0.40,>=0.39.0dev0 in /Users/humphreyyang/anaconda3/envs/quantecon/lib/python3.9/site-packages (from numba->quantecon) (0.39.1)\n",
      "Requirement already satisfied: setuptools in /Users/humphreyyang/anaconda3/envs/quantecon/lib/python3.9/site-packages (from numba->quantecon) (65.5.0)\n",
      "Requirement already satisfied: charset-normalizer<3,>=2 in /Users/humphreyyang/anaconda3/envs/quantecon/lib/python3.9/site-packages (from requests->quantecon) (2.0.4)\n",
      "Requirement already satisfied: urllib3<1.27,>=1.21.1 in /Users/humphreyyang/anaconda3/envs/quantecon/lib/python3.9/site-packages (from requests->quantecon) (1.26.13)\n",
      "Requirement already satisfied: certifi>=2017.4.17 in /Users/humphreyyang/anaconda3/envs/quantecon/lib/python3.9/site-packages (from requests->quantecon) (2022.12.7)\n",
      "Requirement already satisfied: idna<4,>=2.5 in /Users/humphreyyang/anaconda3/envs/quantecon/lib/python3.9/site-packages (from requests->quantecon) (3.4)\n",
      "Requirement already satisfied: mpmath>=0.19 in /Users/humphreyyang/anaconda3/envs/quantecon/lib/python3.9/site-packages (from sympy->quantecon) (1.2.1)\n"
     ]
    }
   ],
   "source": [
    "!pip install quantecon"
   ]
  },
  {
   "cell_type": "markdown",
   "id": "fbbc5d51",
   "metadata": {},
   "source": [
    "## Overview\n",
    "\n",
    "Markov chains are a standard way to model time series with some\n",
    "dependence between observations.\n",
    "\n",
    "For example, \n",
    "\n",
    "* inflation next year depends on inflation this year\n",
    "* unemployment next month depends on unemployment this month\n",
    "\n",
    "In fact Markov chains are one of the workhorse models of economics and\n",
    "finance.\n",
    "\n",
    "The theory of Markov chains is beautiful and insightful, which is another\n",
    "excellent reason to study them.\n",
    "\n",
    "In this introductory lecture, we will \n",
    "\n",
    "* review some of the key ideas from the theory of Markov chains and\n",
    "* show how Markov chains appear in some economic applications.\n",
    "\n",
    "Let's start with some standard imports:"
   ]
  },
  {
   "cell_type": "code",
   "execution_count": 2,
   "id": "75c0088a-592a-4d61-af33-8e1f14a47d32",
   "metadata": {},
   "outputs": [],
   "source": [
    "%matplotlib inline\n",
    "import matplotlib.pyplot as plt\n",
    "plt.rcParams[\"figure.figsize\"] = (11, 5)  #set default figure size\n",
    "import quantecon as qe\n",
    "import numpy as np\n",
    "from mpl_toolkits.mplot3d import Axes3D\n",
    "import graphviz \n",
    "from IPython.display import display"
   ]
  },
  {
   "cell_type": "markdown",
   "id": "e90573f1-a41f-41db-bc04-cc70aee4313e",
   "metadata": {},
   "source": [
    "## Definitions and Examples\n",
    "\n",
    "In this section we provide the basic definitions and some elementary examples."
   ]
  },
  {
   "cell_type": "markdown",
   "id": "634709df",
   "metadata": {},
   "source": [
    "(finite_dp_stoch_mat)=\n",
    "### Stochastic Matrices \n",
    "\n",
    "Recall that a **probability mass function** over $n$ possible outcomes is a\n",
    "nonnegative $n$-vector $p$ that sums to one.\n",
    "\n",
    "For example, $p = (0.2, 0.2, 0.6)$ is a probability mass function over $3$ outcomes.\n",
    "\n",
    "A **stochastic matrix** (or **Markov matrix**)  is an $n \\times n$ square matrix $P$\n",
    "such that each row of $P$ is a probability mass function over $n$ outcomes.\n",
    "\n",
    "In other words,\n",
    "\n",
    "1. each element of $P$ is nonnegative, and\n",
    "1. each row of $P$ sums to one\n",
    "\n",
    "If $P$ is a stochastic matrix, then so is the $k$-th power $P^k$ for all $k \\in \\mathbb N$.\n",
    "\n",
    "(To create the $k$-th power of $P$, multiply $P$ with itself $k$ times.)\n",
    "\n",
    "The claim above is not too hard to check.\n",
    "\n",
    "For example, suppose that $P$ is stochastic and $P^k$ is stochastic for some\n",
    "integer $k$ and consider $P^{k+1} = P P^k$.\n",
    "\n",
    "We claim that $P^{k+1}$ is also stochastic.\n",
    "\n",
    "To see this, observe that, since $P^k$ is stochastic and the product of\n",
    "nonnegative matrices is nonnegative, $P^{k+1} = P P^k$ is nonnegative.\n",
    "\n",
    "Also, if $1$ is a column vector of ones, then, since $P^k$ is stochastic we\n",
    "have $P^k 1 = 1$.\n",
    "\n",
    "Therefore $P^{k+1} 1 = P P^k 1 = P 1 = 1$\n",
    "\n",
    "The proof is done."
   ]
  },
  {
   "cell_type": "markdown",
   "id": "5ec886fa",
   "metadata": {},
   "source": [
    "### Markov Chains \n",
    "\n",
    "Now we can introduce Markov chains.\n",
    "\n",
    "First we will give some examples and then we will define them more carefully.\n",
    "\n",
    "At that time, the connection between stochastic matrices and Markov chains\n",
    "will become clear."
   ]
  },
  {
   "cell_type": "markdown",
   "id": "5442b786",
   "metadata": {},
   "source": [
    "(mc_eg2)=\n",
    "#### Example 1\n",
    "\n",
    "From  US unemployment data, Hamilton {cite}`Hamilton2005` estimated the following dynamics.\n",
    "\n",
    "TODO: Hide this code"
   ]
  },
  {
   "cell_type": "code",
   "execution_count": 3,
   "id": "6487116b-373f-4387-b1ab-fbd3250b8d00",
   "metadata": {},
   "outputs": [
    {
     "data": {
      "image/svg+xml": [
       "<?xml version=\"1.0\" encoding=\"UTF-8\" standalone=\"no\"?>\n",
       "<!DOCTYPE svg PUBLIC \"-//W3C//DTD SVG 1.1//EN\"\n",
       " \"http://www.w3.org/Graphics/SVG/1.1/DTD/svg11.dtd\">\n",
       "<!-- Generated by graphviz version 2.50.0 (0)\n",
       " -->\n",
       "<!-- Pages: 1 -->\n",
       "<svg width=\"304pt\" height=\"80pt\"\n",
       " viewBox=\"0.00 0.00 304.00 80.09\" xmlns=\"http://www.w3.org/2000/svg\" xmlns:xlink=\"http://www.w3.org/1999/xlink\">\n",
       "<g id=\"graph0\" class=\"graph\" transform=\"scale(1 1) rotate(0) translate(4 76.09)\">\n",
       "<polygon fill=\"white\" stroke=\"transparent\" points=\"-4,4 -4,-76.09 300,-76.09 300,4 -4,4\"/>\n",
       "<!-- ng -->\n",
       "<g id=\"node1\" class=\"node\">\n",
       "<title>ng</title>\n",
       "<ellipse fill=\"none\" stroke=\"black\" cx=\"27\" cy=\"-21.09\" rx=\"27\" ry=\"18\"/>\n",
       "<text text-anchor=\"middle\" x=\"27\" y=\"-17.39\" font-family=\"Times,serif\" font-size=\"14.00\">ng</text>\n",
       "</g>\n",
       "<!-- ng&#45;&gt;ng -->\n",
       "<g id=\"edge1\" class=\"edge\">\n",
       "<title>ng&#45;&gt;ng</title>\n",
       "<path fill=\"none\" stroke=\"black\" d=\"M16.45,-37.76C14.11,-47.72 17.62,-57.09 27,-57.09 33.01,-57.09 36.61,-53.24 37.8,-47.86\"/>\n",
       "<polygon fill=\"black\" stroke=\"black\" points=\"41.3,-47.66 37.55,-37.76 34.3,-47.84 41.3,-47.66\"/>\n",
       "<text text-anchor=\"middle\" x=\"27\" y=\"-60.89\" font-family=\"Times,serif\" font-size=\"14.00\">0.971</text>\n",
       "</g>\n",
       "<!-- mr -->\n",
       "<g id=\"node2\" class=\"node\">\n",
       "<title>mr</title>\n",
       "<ellipse fill=\"none\" stroke=\"black\" cx=\"148\" cy=\"-21.09\" rx=\"27\" ry=\"18\"/>\n",
       "<text text-anchor=\"middle\" x=\"148\" y=\"-17.39\" font-family=\"Times,serif\" font-size=\"14.00\">mr</text>\n",
       "</g>\n",
       "<!-- ng&#45;&gt;mr -->\n",
       "<g id=\"edge2\" class=\"edge\">\n",
       "<title>ng&#45;&gt;mr</title>\n",
       "<path fill=\"none\" stroke=\"black\" d=\"M54.12,-21.09C70.78,-21.09 92.61,-21.09 110.92,-21.09\"/>\n",
       "<polygon fill=\"black\" stroke=\"black\" points=\"110.95,-24.59 120.95,-21.09 110.95,-17.59 110.95,-24.59\"/>\n",
       "<text text-anchor=\"middle\" x=\"87.5\" y=\"-24.89\" font-family=\"Times,serif\" font-size=\"14.00\">0.029</text>\n",
       "</g>\n",
       "<!-- mr&#45;&gt;ng -->\n",
       "<g id=\"edge3\" class=\"edge\">\n",
       "<title>mr&#45;&gt;ng</title>\n",
       "<path fill=\"none\" stroke=\"black\" d=\"M126.09,-10C118.97,-6.78 110.82,-3.71 103,-2.09 89.51,0.7 85.49,0.7 72,-2.09 67.48,-3.03 62.85,-4.45 58.37,-6.1\"/>\n",
       "<polygon fill=\"black\" stroke=\"black\" points=\"56.83,-2.95 48.91,-10 59.49,-9.43 56.83,-2.95\"/>\n",
       "<text text-anchor=\"middle\" x=\"87.5\" y=\"-5.89\" font-family=\"Times,serif\" font-size=\"14.00\">0.145</text>\n",
       "</g>\n",
       "<!-- mr&#45;&gt;mr -->\n",
       "<g id=\"edge4\" class=\"edge\">\n",
       "<title>mr&#45;&gt;mr</title>\n",
       "<path fill=\"none\" stroke=\"black\" d=\"M137.45,-37.76C135.11,-47.72 138.62,-57.09 148,-57.09 154.01,-57.09 157.61,-53.24 158.8,-47.86\"/>\n",
       "<polygon fill=\"black\" stroke=\"black\" points=\"162.3,-47.66 158.55,-37.76 155.3,-47.84 162.3,-47.66\"/>\n",
       "<text text-anchor=\"middle\" x=\"148\" y=\"-60.89\" font-family=\"Times,serif\" font-size=\"14.00\">0.778</text>\n",
       "</g>\n",
       "<!-- sr -->\n",
       "<g id=\"node3\" class=\"node\">\n",
       "<title>sr</title>\n",
       "<ellipse fill=\"none\" stroke=\"black\" cx=\"269\" cy=\"-21.09\" rx=\"27\" ry=\"18\"/>\n",
       "<text text-anchor=\"middle\" x=\"269\" y=\"-17.39\" font-family=\"Times,serif\" font-size=\"14.00\">sr</text>\n",
       "</g>\n",
       "<!-- mr&#45;&gt;sr -->\n",
       "<g id=\"edge5\" class=\"edge\">\n",
       "<title>mr&#45;&gt;sr</title>\n",
       "<path fill=\"none\" stroke=\"black\" d=\"M175.12,-21.09C191.78,-21.09 213.61,-21.09 231.92,-21.09\"/>\n",
       "<polygon fill=\"black\" stroke=\"black\" points=\"231.95,-24.59 241.95,-21.09 231.95,-17.59 231.95,-24.59\"/>\n",
       "<text text-anchor=\"middle\" x=\"208.5\" y=\"-24.89\" font-family=\"Times,serif\" font-size=\"14.00\">0.077</text>\n",
       "</g>\n",
       "<!-- sr&#45;&gt;mr -->\n",
       "<g id=\"edge6\" class=\"edge\">\n",
       "<title>sr&#45;&gt;mr</title>\n",
       "<path fill=\"none\" stroke=\"black\" d=\"M247.09,-10C239.97,-6.78 231.82,-3.71 224,-2.09 210.51,0.7 206.49,0.7 193,-2.09 188.48,-3.03 183.85,-4.45 179.37,-6.1\"/>\n",
       "<polygon fill=\"black\" stroke=\"black\" points=\"177.83,-2.95 169.91,-10 180.49,-9.43 177.83,-2.95\"/>\n",
       "<text text-anchor=\"middle\" x=\"208.5\" y=\"-5.89\" font-family=\"Times,serif\" font-size=\"14.00\">0.508</text>\n",
       "</g>\n",
       "<!-- sr&#45;&gt;sr -->\n",
       "<g id=\"edge7\" class=\"edge\">\n",
       "<title>sr&#45;&gt;sr</title>\n",
       "<path fill=\"none\" stroke=\"black\" d=\"M258.45,-37.76C256.11,-47.72 259.62,-57.09 269,-57.09 275.01,-57.09 278.61,-53.24 279.8,-47.86\"/>\n",
       "<polygon fill=\"black\" stroke=\"black\" points=\"283.3,-47.66 279.55,-37.76 276.3,-47.84 283.3,-47.66\"/>\n",
       "<text text-anchor=\"middle\" x=\"269\" y=\"-60.89\" font-family=\"Times,serif\" font-size=\"14.00\">0.492</text>\n",
       "</g>\n",
       "</g>\n",
       "</svg>\n"
      ],
      "text/plain": [
       "<graphviz.graphs.Digraph at 0x10719a3a0>"
      ]
     },
     "execution_count": 3,
     "metadata": {},
     "output_type": "execute_result"
    }
   ],
   "source": [
    "from graphviz import Digraph\n",
    "\n",
    "dot = Digraph(comment='Graph')\n",
    "dot.attr(rankdir='LR')\n",
    "dot.node(\"ng\")\n",
    "dot.node(\"mr\")\n",
    "dot.node(\"sr\")\n",
    "\n",
    "dot.edge(\"ng\", \"ng\", label=\"0.971\")\n",
    "dot.edge(\"ng\", \"mr\", label=\"0.029\")\n",
    "dot.edge(\"mr\", \"ng\", label=\"0.145\")\n",
    "\n",
    "dot.edge(\"mr\", \"mr\", label=\"0.778\")\n",
    "dot.edge(\"mr\", \"sr\", label=\"0.077\")\n",
    "dot.edge(\"sr\", \"mr\", label=\"0.508\")\n",
    "    \n",
    "dot.edge(\"sr\", \"sr\", label=\"0.492\")\n",
    "dot"
   ]
  },
  {
   "cell_type": "markdown",
   "id": "aa516451-9cba-472c-bfe9-89f91e39a3e8",
   "metadata": {},
   "source": [
    "Here there are three **states**\n",
    "\n",
    "* \"ng\" represents normal growth\n",
    "* \"mr\" represents mild recession\n",
    "* \"sr\" represents severe recession\n",
    "\n",
    "The arrows represent **transition probabilities** over one month.\n",
    "\n",
    "For example, the arrow from mild recession to normal growth has 0.145 next to it.\n",
    "\n",
    "This tells us that, according to past data, there is a 14.5% probability of transitioning from mild recession to normal growth in one month.\n",
    "\n",
    "The arrow from normal growth back to normal growth tells us that there is a\n",
    "97% probability of transitioning from normal growth to normal growth (staying\n",
    "in the same state).\n",
    "\n",
    "Note that these are *conditional* probabilties --- the probability of\n",
    "transitioning from one state to another (or staying at the same one) conditional on the\n",
    "current state.\n",
    "\n",
    "To make the problem easier to work with numerically, let's convert states to\n",
    "numbers.\n",
    "\n",
    "In particular, we agree that\n",
    "\n",
    "* state 0 represents normal growth\n",
    "* state 1 represents mild recession\n",
    "* state 2 represents severe recession\n",
    "\n",
    "Now let $X_t$ record the value of the state at time $t$.\n",
    "\n",
    "We can now write the statement \"there is a 14.5% probability of transitioning from mild recession to normal growth in one month\" as\n",
    "\n",
    "$$\n",
    "    \\mathbb P\\{X_{t+1} = 0 \\,|\\, X_t = 1\\} = 0.145\n",
    "$$\n",
    "\n",
    "We can collect all of these conditional probabilities into a matrix, as follows\n",
    "\n",
    "$$\n",
    "    P =\n",
    "    \\left(\n",
    "      \\begin{array}{ccc}\n",
    "         0.971 & 0.029 & 0 \\\\\n",
    "         0.145 & 0.778 & 0.077 \\\\\n",
    "         0 & 0.508 & 0.492\n",
    "      \\end{array}\n",
    "    \\right)\n",
    "$$\n",
    "\n",
    "Notice that $P$ is a stochastic matrix.\n",
    "\n",
    "Now we have the following relationship\n",
    "\n",
    "$$\n",
    "    \\mathbb P\\{X_{t+1} = 0 \\,|\\, X_t = 1\\} = P(1,0)\n",
    "$$\n",
    "\n",
    "where $P(1,0)$ is element $(1,0)$ of $P$.\n",
    "\n",
    "We see now that $P(1,0)$ is the probability of transitioning from state 0 to\n",
    "state 1 in one month.\n",
    "\n",
    "More generally, for any $i,j$ between 0 and 2, we have\n",
    "\n",
    "$$\n",
    "\\begin{aligned}\n",
    "    P(i,j)\n",
    "    & = \\mathbb P\\{X_{t+1} = j \\,|\\, X_t = i\\} \n",
    "    \\\\\n",
    "    & = \\text{ probability of transitioning from state $i$ to state $j$ in one month}\n",
    "\\end{aligned}\n",
    "$$\n"
   ]
  },
  {
   "cell_type": "markdown",
   "id": "1a4ab741",
   "metadata": {},
   "source": [
    "(mc_eg1)=\n",
    "#### Example 2\n",
    "\n",
    "Consider a worker who, at any given time $t$, is either unemployed (state 0)\n",
    "or employed (state 1).\n",
    "\n",
    "Suppose that, over a one month period,\n",
    "\n",
    "1. the unemployed worker finds a job with probability $\\alpha \\in (0, 1)$.\n",
    "1. the employed worker loses her job and becomes unemployed with probability $\\beta \\in (0, 1)$.\n",
    "\n",
    "Given the above information, we can write out the transition probabilities in matrix form as\n",
    "\n",
    "```{math}\n",
    ":label: p_unempemp\n",
    "\n",
    "P\n",
    "= \\left(\n",
    "\\begin{array}{cc}\n",
    "    1 - \\alpha & \\alpha \\\\\n",
    "    \\beta & 1 - \\beta\n",
    "\\end{array}\n",
    "  \\right)\n",
    "```\n",
    "\n",
    "For example,\n",
    "\n",
    "$$\n",
    "\\begin{aligned}\n",
    "    P(0,1) \n",
    "        & = \n",
    "        \\text{ probability of transitioning from state $0$ to state $1$ in one month}\n",
    "        \\\\\n",
    "        & = \n",
    "        \\text{ probability finding a job next month}\n",
    "        \\\\\n",
    "        & = \\alpha\n",
    "\\end{aligned}\n",
    "$$\n",
    "\n",
    "Suppose we can estimate the values $\\alpha$ and $\\beta$.\n",
    "\n",
    "Then we can address a range of questions, such as\n",
    "\n",
    "* What is the average duration of unemployment?\n",
    "* Over the long-run, what fraction of time does a worker find herself unemployed?\n",
    "* Conditional on employment, what is the probability of becoming unemployed at least once over the next 12 months?\n",
    "\n",
    "We'll cover such applications below."
   ]
  },
  {
   "cell_type": "markdown",
   "id": "bf3b737b",
   "metadata": {},
   "source": [
    "### Defining Markov Chains\n",
    "\n",
    "So far we've given examples of Markov chains but now let's define them more\n",
    "carefully."
   ]
  },
  {
   "cell_type": "markdown",
   "id": "78186b86",
   "metadata": {},
   "source": [
    "To begin, let $S$ be a finite set with $n$ elements $\\{x_1, \\ldots, x_n\\}$.\n",
    "\n",
    "The set $S$ is called the **state space** and $x_1, \\ldots, x_n$ are the **state values**.\n",
    "\n",
    "A **Markov chain** $\\{X_t\\}$ on $S$ is a sequence of random variables on $S$ that have the **Markov property**.\n",
    "\n",
    "This means that, for any date $t$ and any state $y \\in S$,\n",
    "\n",
    "```{math}\n",
    ":label: fin_markov_mp\n",
    "\n",
    "\\mathbb P \\{ X_{t+1} = y  \\,|\\, X_t \\}\n",
    "= \\mathbb P \\{ X_{t+1}  = y \\,|\\, X_t, X_{t-1}, \\ldots \\}\n",
    "```\n",
    "\n",
    "In other words, knowing the current state is enough to know probabilities for future states.\n",
    "\n",
    "In particular, the dynamics of a Markov chain are fully determined by the set of values\n",
    "\n",
    "```{math}\n",
    ":label: mpp\n",
    "\n",
    "P(x, y) := \\mathbb P \\{ X_{t+1} = y \\,|\\, X_t = x \\}\n",
    "\\qquad (x, y \\in S)\n",
    "```\n",
    "\n",
    "By construction,\n",
    "\n",
    "* $P(x, y)$ is the probability of going from $x$ to $y$ in one unit of time (one step)\n",
    "* $P(x, \\cdot)$ is the conditional distribution of $X_{t+1}$ given $X_t = x$\n",
    "\n",
    "We can view $P$ as a stochastic matrix where\n",
    "\n",
    "$$\n",
    "    P_{ij} = P(x_i, x_j)\n",
    "    \\qquad 1 \\leq i, j \\leq n\n",
    "$$\n",
    "\n",
    "Going the other way, if we take a stochastic matrix $P$, we can generate a Markov\n",
    "chain $\\{X_t\\}$ as follows:\n",
    "\n",
    "* draw $X_0$ from a marginal distribution $\\psi$ \n",
    "* for each $t = 0, 1, \\ldots$, draw $X_{t+1}$ from $P(X_t,\\cdot)$\n",
    "\n",
    "By construction, the resulting process satisfies {eq}`mpp`.\n",
    "\n"
   ]
  },
  {
   "cell_type": "markdown",
   "id": "e3e93d73",
   "metadata": {},
   "source": [
    "## Simulation\n",
    "\n",
    "```{index} single: Markov Chains; Simulation\n",
    "```\n",
    "\n",
    "One natural way to answer questions about Markov chains is to simulate them.\n",
    "\n",
    "Let's start by doing this ourselves and then look at libraries that can help\n",
    "us.\n",
    "\n",
    "In these exercises, we'll take the state space to be $S = 0,\\ldots, n-1$."
   ]
  },
  {
   "cell_type": "markdown",
   "id": "dc0d824c",
   "metadata": {},
   "source": [
    "### Rolling Our Own\n",
    "\n",
    "To simulate a Markov chain, we need its stochastic matrix $P$ and a probability mass function $\\psi$ on $S$ from which to draw a realization of $X_0$.\n",
    "\n",
    "The Markov chain is then constructed as follows:\n",
    "\n",
    "1. At time $t=0$, draw a realization of  $X_0$  from $\\psi$.\n",
    "1. At each subsequent time $t$, draw a realization of the new state $X_{t+1}$ from $P(X_t, \\cdot)$.\n",
    "\n",
    "To implement this simulation procedure, we need a method for generating draws from a discrete distribution.\n",
    "\n",
    "For this task, we'll use `random.draw` from [QuantEcon](http://quantecon.org/quantecon-py).\n",
    "\n",
    "To use `random.draw`, we first need to convert the probability mass function\n",
    "to a cummulative distribution"
   ]
  },
  {
   "cell_type": "code",
   "execution_count": 4,
   "id": "9e250ecf-d05b-41b7-9a3b-a316c3c7b430",
   "metadata": {},
   "outputs": [
    {
     "data": {
      "text/plain": [
       "array([0.3, 1. ])"
      ]
     },
     "execution_count": 4,
     "metadata": {},
     "output_type": "execute_result"
    }
   ],
   "source": [
    "ψ = (0.3, 0.7)           # probabilities over {0, 1}\n",
    "cdf = np.cumsum(ψ)       # convert into cummulative distribution\n",
    "cdf"
   ]
  },
  {
   "cell_type": "code",
   "execution_count": 5,
   "id": "3c1d73e4-5938-47c3-98a9-791e00d9a9a6",
   "metadata": {},
   "outputs": [
    {
     "data": {
      "text/plain": [
       "array([1, 1, 0, 0, 1])"
      ]
     },
     "execution_count": 5,
     "metadata": {},
     "output_type": "execute_result"
    }
   ],
   "source": [
    "qe.random.draw(cdf, 5)   # generate 5 independent draws from ψ"
   ]
  },
  {
   "cell_type": "markdown",
   "id": "a10e98a7-b7f3-4899-b3b6-220181d216b2",
   "metadata": {},
   "source": [
    "We'll write our code as a function that accepts the following three arguments\n",
    "\n",
    "* A stochastic matrix `P`\n",
    "* An initial state `init`\n",
    "* A positive integer `sample_size` representing the length of the time series the function should return\n",
    "\n",
    "TODO: Link to distribution lecture"
   ]
  },
  {
   "cell_type": "code",
   "execution_count": 6,
   "id": "d375fe04-296c-490f-b6d3-d4c0a138a7ad",
   "metadata": {},
   "outputs": [],
   "source": [
    "def mc_sample_path(P, ψ_0=None, sample_size=1_000):\n",
    "\n",
    "    # set up\n",
    "    P = np.asarray(P)\n",
    "    X = np.empty(sample_size, dtype=int)\n",
    "\n",
    "    # Convert each row of P into a cdf\n",
    "    n = len(P)\n",
    "    P_dist = [np.cumsum(P[i, :]) for i in range(n)]\n",
    "    print(P_dist)\n",
    "\n",
    "    # draw initial state, defaulting to 0\n",
    "    X_0 = qe.random.draw(np.cumsum(ψ_0)) if ψ_0 is not None else 0\n",
    "\n",
    "    # simulate\n",
    "    X[0] = X_0\n",
    "    for t in range(sample_size - 1):\n",
    "        X[t+1] = qe.random.draw(P_dist[X[t]])\n",
    "\n",
    "    return X\n"
   ]
  },
  {
   "cell_type": "code",
   "execution_count": 7,
   "id": "52f2f717-d994-4b31-a499-2768ea294cfc",
   "metadata": {},
   "outputs": [],
   "source": [
    "import numpy as np\n",
    "\n",
    "arr = np.array([[1, 2, 3], [4, 5, 6], [7, 8, 9]])"
   ]
  },
  {
   "cell_type": "code",
   "execution_count": 8,
   "id": "be2166d3-49c6-447a-a37f-76cd82a9957a",
   "metadata": {},
   "outputs": [
    {
     "data": {
      "text/plain": [
       "array([2, 5, 8])"
      ]
     },
     "execution_count": 8,
     "metadata": {},
     "output_type": "execute_result"
    }
   ],
   "source": [
    "arr[:, 1]"
   ]
  },
  {
   "cell_type": "code",
   "execution_count": 9,
   "id": "5f3e2706-7ffb-4848-8fbf-0fd3d14c72c3",
   "metadata": {},
   "outputs": [
    {
     "data": {
      "text/plain": [
       "array([ 2,  7, 13])"
      ]
     },
     "execution_count": 9,
     "metadata": {},
     "output_type": "execute_result"
    }
   ],
   "source": [
    "# Update values of column 2 (index 1)\n",
    "col = arr[:, 1]\n",
    "col[1:] = col[:-1] + col[1:]\n",
    "col"
   ]
  },
  {
   "cell_type": "markdown",
   "id": "73b1039b-f970-4716-94ec-4ccfffe33014",
   "metadata": {},
   "source": [
    "Let's see how it works using the small matrix"
   ]
  },
  {
   "cell_type": "code",
   "execution_count": 10,
   "id": "e3d1decd-77f1-40c5-8e8f-14f9dfceb0cc",
   "metadata": {},
   "outputs": [],
   "source": [
    "P = [[0.4, 0.6],\n",
    "     [0.2, 0.8]]"
   ]
  },
  {
   "cell_type": "markdown",
   "id": "3a930cac-d9f2-4064-bddd-1d19e3f73a61",
   "metadata": {},
   "source": [
    "As we'll see later, for a long series drawn from `P`, the fraction of the sample that takes value 0 will be about 0.25.\n",
    "\n",
    "Moreover, this is true, regardless of the initial distribution from which\n",
    "$X_0$ is drawn.\n",
    "\n",
    "The following code illustrates this"
   ]
  },
  {
   "cell_type": "code",
   "execution_count": 11,
   "id": "04bccf0d-c4e7-4f29-b6b5-21fb4b251bb8",
   "metadata": {},
   "outputs": [
    {
     "name": "stdout",
     "output_type": "stream",
     "text": [
      "[array([0.4, 1. ]), array([0.2, 1. ])]\n"
     ]
    },
    {
     "data": {
      "text/plain": [
       "0.24878"
      ]
     },
     "execution_count": 11,
     "metadata": {},
     "output_type": "execute_result"
    }
   ],
   "source": [
    "X = mc_sample_path(P, ψ_0=[0.1, 0.9], sample_size=100_000)\n",
    "np.mean(X == 0)"
   ]
  },
  {
   "cell_type": "markdown",
   "id": "99b74b4c-9811-4c8e-b967-80d5e82da132",
   "metadata": {},
   "source": [
    "You can try changing the initial distribution to confirm that the output is\n",
    "always close to 0.25, at least for the `P` matrix above."
   ]
  },
  {
   "cell_type": "markdown",
   "id": "e2ab5b2c",
   "metadata": {},
   "source": [
    "### Using QuantEcon's Routines\n",
    "\n",
    "[QuantEcon.py](http://quantecon.org/quantecon-py) has routines for handling Markov chains, including simulation.\n",
    "\n",
    "Here's an illustration using the same $P$ as the preceding example\n"
   ]
  },
  {
   "cell_type": "code",
   "execution_count": 12,
   "id": "d9ad9e17-a6e7-40fd-ab7a-97f18b087741",
   "metadata": {},
   "outputs": [
    {
     "data": {
      "text/plain": [
       "0.250374"
      ]
     },
     "execution_count": 12,
     "metadata": {},
     "output_type": "execute_result"
    }
   ],
   "source": [
    "from quantecon import MarkovChain\n",
    "\n",
    "mc = qe.MarkovChain(P)\n",
    "X = mc.simulate(ts_length=1_000_000)\n",
    "np.mean(X == 0)"
   ]
  },
  {
   "cell_type": "markdown",
   "id": "974dbfd8-d004-4315-94ec-ab22656f2c24",
   "metadata": {},
   "source": [
    "The `simulate` routine is [JIT compiled](https://python-programming.quantecon.org/numba.html#numba-link) and much faster."
   ]
  },
  {
   "cell_type": "code",
   "execution_count": 13,
   "id": "529144b8-e318-4304-940e-aa5128474a38",
   "metadata": {},
   "outputs": [
    {
     "name": "stdout",
     "output_type": "stream",
     "text": [
      "[array([0.4, 1. ]), array([0.2, 1. ])]\n",
      "CPU times: user 287 ms, sys: 3.97 ms, total: 291 ms\n",
      "Wall time: 292 ms\n"
     ]
    },
    {
     "data": {
      "text/plain": [
       "array([0, 1, 1, ..., 0, 0, 0])"
      ]
     },
     "execution_count": 13,
     "metadata": {},
     "output_type": "execute_result"
    }
   ],
   "source": [
    "%time mc_sample_path(P, sample_size=1_000_000) # Our homemade code version"
   ]
  },
  {
   "cell_type": "code",
   "execution_count": 14,
   "id": "e1b15f8c-5696-431a-8855-a3bf4085dfbf",
   "metadata": {},
   "outputs": [
    {
     "name": "stdout",
     "output_type": "stream",
     "text": [
      "CPU times: user 18.9 ms, sys: 2.47 ms, total: 21.4 ms\n",
      "Wall time: 20.1 ms\n"
     ]
    },
    {
     "data": {
      "text/plain": [
       "array([0, 1, 1, ..., 1, 1, 1])"
      ]
     },
     "execution_count": 14,
     "metadata": {},
     "output_type": "execute_result"
    }
   ],
   "source": [
    "%time mc.simulate(ts_length=1_000_000) # qe code version"
   ]
  },
  {
   "cell_type": "markdown",
   "id": "eb371704",
   "metadata": {},
   "source": [
    "#### Adding State Values and Initial Conditions\n",
    "\n",
    "If we wish to, we can provide a specification of state values to `MarkovChain`.\n",
    "\n",
    "These state values can be integers, floats, or even strings.\n",
    "\n",
    "The following code illustrates"
   ]
  },
  {
   "cell_type": "code",
   "execution_count": 15,
   "id": "bc29faca-3570-438b-9f55-2cd63434b31a",
   "metadata": {},
   "outputs": [
    {
     "data": {
      "text/plain": [
       "array(['employed', 'employed', 'employed', 'unemployed'], dtype='<U10')"
      ]
     },
     "execution_count": 15,
     "metadata": {},
     "output_type": "execute_result"
    }
   ],
   "source": [
    "mc = qe.MarkovChain(P, state_values=('unemployed', 'employed'))\n",
    "mc.simulate(ts_length=4, init='employed')"
   ]
  },
  {
   "cell_type": "code",
   "execution_count": 16,
   "id": "7578c860-3bbe-43bb-b181-e5ea3067c91f",
   "metadata": {},
   "outputs": [
    {
     "data": {
      "text/plain": [
       "array(['unemployed', 'unemployed', 'employed', 'unemployed'], dtype='<U10')"
      ]
     },
     "execution_count": 16,
     "metadata": {},
     "output_type": "execute_result"
    }
   ],
   "source": [
    "mc.simulate(ts_length=4, init='unemployed')"
   ]
  },
  {
   "cell_type": "code",
   "execution_count": 17,
   "id": "c8b95785-226c-432f-aa94-bdc235712a4f",
   "metadata": {},
   "outputs": [
    {
     "data": {
      "text/plain": [
       "array(['employed', 'employed', 'employed', 'employed'], dtype='<U10')"
      ]
     },
     "execution_count": 17,
     "metadata": {},
     "output_type": "execute_result"
    }
   ],
   "source": [
    "mc.simulate(ts_length=4)  # Start at randomly chosen initial state"
   ]
  },
  {
   "cell_type": "markdown",
   "id": "2cec2ac1-6d08-4056-93f1-b6781b4d404b",
   "metadata": {},
   "source": [
    "If we want to see indices rather than state values as outputs as  we can use\n"
   ]
  },
  {
   "cell_type": "code",
   "execution_count": 18,
   "id": "c77356c7-1422-4344-b021-b3af478d69dc",
   "metadata": {},
   "outputs": [
    {
     "data": {
      "text/plain": [
       "array([1, 0, 0, 1])"
      ]
     },
     "execution_count": 18,
     "metadata": {},
     "output_type": "execute_result"
    }
   ],
   "source": [
    "mc.simulate_indices(ts_length=4)"
   ]
  },
  {
   "cell_type": "markdown",
   "id": "43f9e99a",
   "metadata": {},
   "source": [
    "(mc_md)=\n",
    "## Marginal Distributions \n",
    "\n",
    "Suppose that\n",
    "\n",
    "1. $\\{X_t\\}$ is a Markov chain with stochastic matrix $P$\n",
    "1. the marginal distribution of $X_t$ is known to be $\\psi_t$\n",
    "\n",
    "What then is the marginal distribution of $X_{t+1}$, or, more generally, of $X_{t+m}$?\n",
    "\n",
    "To answer this, we let $\\psi_t$ be the marginal distribution of $X_t$ for $t = 0, 1, 2, \\ldots$.\n",
    "\n",
    "Our first aim is to find $\\psi_{t + 1}$ given $\\psi_t$ and $P$.\n",
    "\n",
    "To begin, pick any $y  \\in S$.\n",
    "\n",
    "Using the [law of total probability](https://en.wikipedia.org/wiki/Law_of_total_probability), we argue as follows:\n",
    "\n",
    "$$\n",
    "\\mathbb P \\{X_{t+1} = y \\}\n",
    "   = \\sum_{x \\in S} \\mathbb P \\{ X_{t+1} = y \\, | \\, X_t = x \\}\n",
    "               \\cdot \\mathbb P \\{ X_t = x \\}\n",
    "$$\n",
    "\n",
    "In words, to get the probability of being at $y$ tomorrow, we account for\n",
    "all ways this can happen and sum their probabilities.\n",
    "\n",
    "Rewriting this statement in terms of  marginal and conditional probabilities gives\n",
    "\n",
    "$$\n",
    "    \\psi_{t+1}(y) = \\sum_{x \\in S} P(x,y) \\psi_t(x)\n",
    "$$\n",
    "\n",
    "There are $n$ such equations, one for each $y \\in S$.\n",
    "\n",
    "If we think of $\\psi_{t+1}$ and $\\psi_t$ as *row vectors*, these $n$ equations are summarized by the matrix expression\n",
    "\n",
    "```{math}\n",
    ":label: fin_mc_fr\n",
    "\n",
    "\\psi_{t+1} = \\psi_t P\n",
    "```\n",
    "\n",
    "Thus, to move a marginal distribution forward one unit of time, we postmultiply by $P$.\n",
    "\n",
    "By postmultiplying $m$ times, we move a marginal distribution forward $m$ steps into the future.\n",
    "\n",
    "Hence, iterating on {eq}`fin_mc_fr`, the expression $\\psi_{t+m} = \\psi_t P^m$ is also valid --- here $P^m$ is the $m$-th power of $P$.\n",
    "\n",
    "As a special case, we see that if $\\psi_0$ is the initial distribution from\n",
    "which $X_0$ is drawn, then $\\psi_0 P^m$ is the distribution of\n",
    "$X_m$.\n",
    "\n",
    "This is very important, so let's repeat it\n",
    "\n",
    "```{math}\n",
    ":label: mdfmc\n",
    "\n",
    "X_0 \\sim \\psi_0 \\quad \\implies \\quad X_m \\sim \\psi_0 P^m\n",
    "```\n",
    "\n",
    "and, more generally,\n",
    "\n",
    "```{math}\n",
    ":label: mdfmc2\n",
    "\n",
    "X_t \\sim \\psi_t \\quad \\implies \\quad X_{t+m} \\sim \\psi_t P^m\n",
    "```\n",
    "\n"
   ]
  },
  {
   "cell_type": "markdown",
   "id": "0230bb7e",
   "metadata": {},
   "source": [
    "(finite_mc_mstp)=\n",
    "### Multiple Step Transition Probabilities\n",
    "\n",
    "We know that the probability of transitioning from $x$ to $y$ in\n",
    "one step is $P(x,y)$.\n",
    "\n",
    "It turns out that the probability of transitioning from $x$ to $y$ in\n",
    "$m$ steps is $P^m(x,y)$, the $(x,y)$-th element of the\n",
    "$m$-th power of $P$.\n",
    "\n",
    "To see why, consider again {eq}`mdfmc2`, but now with a $\\psi_t$ that puts all probability on state $x$ so that the transition probabilities are\n",
    "\n",
    "* 1 in the $x$-th position and zero elsewhere\n",
    "\n",
    "Inserting this into {eq}`mdfmc2`, we see that, conditional on $X_t = x$, the distribution of $X_{t+m}$ is the $x$-th row of $P^m$.\n",
    "\n",
    "In particular\n",
    "\n",
    "$$\n",
    "\\mathbb P \\{X_{t+m} = y \\,|\\, X_t = x \\} = P^m(x, y) = (x, y) \\text{-th element of } P^m\n",
    "$$\n",
    "\n"
   ]
  },
  {
   "cell_type": "markdown",
   "id": "86d18cfe",
   "metadata": {},
   "source": [
    "### Example: Probability of Recession\n",
    "\n",
    "```{index} single: Markov Chains; Future Probabilities\n",
    "```\n",
    "\n",
    "Recall the stochastic matrix $P$ for recession and growth {ref}`considered above <mc_eg2>`.\n",
    "\n",
    "Suppose that the current state is unknown --- perhaps statistics are available only  at the *end* of the current month.\n",
    "\n",
    "We guess that the probability that the economy is in state $x$ is $\\psi(x)$.\n",
    "\n",
    "The probability of being in recession (either mild or severe) in 6 months time is given by the inner product\n",
    "\n",
    "$$\n",
    "\\psi P^6\n",
    "\\cdot\n",
    "\\left(\n",
    "  \\begin{array}{c}\n",
    "     0 \\\\\n",
    "     1 \\\\\n",
    "     1\n",
    "  \\end{array}\n",
    "\\right)\n",
    "$$\n",
    "\n"
   ]
  },
  {
   "cell_type": "markdown",
   "id": "f6d562ba",
   "metadata": {},
   "source": [
    "(mc_eg1-1)=\n",
    "### Example 2: Cross-Sectional Distributions\n",
    "\n",
    "The marginal distributions we have been studying can be viewed either as\n",
    "probabilities or as cross-sectional frequencies that a Law of Large Numbers\n",
    "leads us to anticipate for  large samples.\n",
    "\n",
    "To illustrate, recall our model of employment/unemployment dynamics for a given worker {ref}`discussed above <mc_eg1>`.\n",
    "\n",
    "Consider a large population of workers, each of whose lifetime experience is\n",
    "described by the specified dynamics, with each worker's outcomes being\n",
    "realizations of processes that are statistically independent of all other\n",
    "workers' processes.\n",
    "\n",
    "Let $\\psi$ be the current *cross-sectional* distribution over $\\{ 0, 1 \\}$.\n",
    "\n",
    "The cross-sectional distribution records fractions of workers employed and unemployed at a given moment.\n",
    "\n",
    "* For example, $\\psi(0)$ is the unemployment rate.\n",
    "\n",
    "What will the cross-sectional distribution be in 10 periods hence?\n",
    "\n",
    "The answer is $\\psi P^{10}$, where $P$ is the stochastic matrix in\n",
    "{eq}`p_unempemp`.\n",
    "\n",
    "This is because each worker's state evolves according to $P$, so\n",
    "$\\psi P^{10}$ is a marginal distibution  for a single randomly selected\n",
    "worker.\n",
    "\n",
    "But when the sample is large, outcomes and probabilities are roughly equal (by an application of the Law\n",
    "of Large Numbers).\n",
    "\n",
    "So for a very large (tending to infinite) population,\n",
    "$\\psi P^{10}$ also represents  fractions of workers in\n",
    "each state.\n",
    "\n",
    "This is exactly the cross-sectional distribution.\n",
    "\n",
    "\n"
   ]
  },
  {
   "cell_type": "markdown",
   "id": "b53397da",
   "metadata": {},
   "source": [
    "## Irreducibility "
   ]
  },
  {
   "cell_type": "markdown",
   "id": "73f459aa",
   "metadata": {},
   "source": [
    "Irreducibility is a central concept of Markov chain theory.\n",
    "\n",
    "To explain it, let's take $P$ to be a fixed stochastic matrix.\n",
    "\n",
    "Two states $x$ and $y$ are said to **communicate** with each other if\n",
    "there exist positive integers $j$ and $k$ such that\n",
    "\n",
    "$$\n",
    "P^j(x, y) > 0\n",
    "\\quad \\text{and} \\quad\n",
    "P^k(y, x) > 0\n",
    "$$\n",
    "\n",
    "In view of our discussion {ref}`above <finite_mc_mstp>`, this means precisely\n",
    "that\n",
    "\n",
    "* state $x$ can eventually be reached from state $y$, and\n",
    "* state $y$ can eventually be reached from state $x$\n",
    "\n",
    "The stochastic matrix $P$ is called **irreducible** if all states communicate;\n",
    "that is, if $x$ and $y$ communicate for all $(x, y)$ in $S \\times S$.\n",
    "\n",
    "For example, consider the following transition probabilities for wealth of a\n",
    "fictitious set of households\n",
    "\n",
    "TODO hide this code"
   ]
  },
  {
   "cell_type": "code",
   "execution_count": 19,
   "id": "d4974a32-56af-40f4-9770-0b644b7e2d2e",
   "metadata": {},
   "outputs": [
    {
     "data": {
      "image/svg+xml": [
       "<?xml version=\"1.0\" encoding=\"UTF-8\" standalone=\"no\"?>\n",
       "<!DOCTYPE svg PUBLIC \"-//W3C//DTD SVG 1.1//EN\"\n",
       " \"http://www.w3.org/Graphics/SVG/1.1/DTD/svg11.dtd\">\n",
       "<!-- Generated by graphviz version 2.50.0 (0)\n",
       " -->\n",
       "<!-- Pages: 1 -->\n",
       "<svg width=\"334pt\" height=\"105pt\"\n",
       " viewBox=\"0.00 0.00 334.49 105.00\" xmlns=\"http://www.w3.org/2000/svg\" xmlns:xlink=\"http://www.w3.org/1999/xlink\">\n",
       "<g id=\"graph0\" class=\"graph\" transform=\"scale(1 1) rotate(0) translate(4 101)\">\n",
       "<polygon fill=\"white\" stroke=\"transparent\" points=\"-4,4 -4,-101 330.49,-101 330.49,4 -4,4\"/>\n",
       "<!-- poor -->\n",
       "<g id=\"node1\" class=\"node\">\n",
       "<title>poor</title>\n",
       "<ellipse fill=\"none\" stroke=\"black\" cx=\"27\" cy=\"-18\" rx=\"27\" ry=\"18\"/>\n",
       "<text text-anchor=\"middle\" x=\"27\" y=\"-14.3\" font-family=\"Times,serif\" font-size=\"14.00\">poor</text>\n",
       "</g>\n",
       "<!-- poor&#45;&gt;poor -->\n",
       "<g id=\"edge1\" class=\"edge\">\n",
       "<title>poor&#45;&gt;poor</title>\n",
       "<path fill=\"none\" stroke=\"black\" d=\"M17.43,-35.04C15.48,-44.86 18.67,-54 27,-54 32.21,-54 35.41,-50.43 36.6,-45.35\"/>\n",
       "<polygon fill=\"black\" stroke=\"black\" points=\"40.1,-45.03 36.57,-35.04 33.1,-45.05 40.1,-45.03\"/>\n",
       "<text text-anchor=\"middle\" x=\"27\" y=\"-57.8\" font-family=\"Times,serif\" font-size=\"14.00\">0.9</text>\n",
       "</g>\n",
       "<!-- middle class -->\n",
       "<g id=\"node2\" class=\"node\">\n",
       "<title>middle class</title>\n",
       "<ellipse fill=\"none\" stroke=\"black\" cx=\"163.25\" cy=\"-46\" rx=\"55.49\" ry=\"18\"/>\n",
       "<text text-anchor=\"middle\" x=\"163.25\" y=\"-42.3\" font-family=\"Times,serif\" font-size=\"14.00\">middle class</text>\n",
       "</g>\n",
       "<!-- poor&#45;&gt;middle class -->\n",
       "<g id=\"edge2\" class=\"edge\">\n",
       "<title>poor&#45;&gt;middle class</title>\n",
       "<path fill=\"none\" stroke=\"black\" d=\"M50.55,-27.26C57.35,-29.76 64.9,-32.26 72,-34 80.91,-36.18 90.41,-37.99 99.78,-39.49\"/>\n",
       "<polygon fill=\"black\" stroke=\"black\" points=\"99.46,-42.98 109.87,-40.99 100.49,-36.06 99.46,-42.98\"/>\n",
       "<text text-anchor=\"middle\" x=\"81\" y=\"-40.8\" font-family=\"Times,serif\" font-size=\"14.00\">0.1</text>\n",
       "</g>\n",
       "<!-- middle class&#45;&gt;poor -->\n",
       "<g id=\"edge3\" class=\"edge\">\n",
       "<title>middle class&#45;&gt;poor</title>\n",
       "<path fill=\"none\" stroke=\"black\" d=\"M133.94,-30.69C120.95,-24.51 105.11,-18.1 90,-15 81.59,-13.27 72.42,-12.91 63.77,-13.23\"/>\n",
       "<polygon fill=\"black\" stroke=\"black\" points=\"63.3,-9.75 53.56,-13.91 63.77,-16.74 63.3,-9.75\"/>\n",
       "<text text-anchor=\"middle\" x=\"81\" y=\"-18.8\" font-family=\"Times,serif\" font-size=\"14.00\">0.4</text>\n",
       "</g>\n",
       "<!-- middle class&#45;&gt;middle class -->\n",
       "<g id=\"edge4\" class=\"edge\">\n",
       "<title>middle class&#45;&gt;middle class</title>\n",
       "<path fill=\"none\" stroke=\"black\" d=\"M148.61,-63.41C145.87,-73.09 150.75,-82 163.25,-82 171.05,-82 175.89,-78.52 177.75,-73.54\"/>\n",
       "<polygon fill=\"black\" stroke=\"black\" points=\"181.25,-73.46 177.88,-63.41 174.25,-73.36 181.25,-73.46\"/>\n",
       "<text text-anchor=\"middle\" x=\"163.25\" y=\"-85.8\" font-family=\"Times,serif\" font-size=\"14.00\">0.4</text>\n",
       "</g>\n",
       "<!-- rich -->\n",
       "<g id=\"node3\" class=\"node\">\n",
       "<title>rich</title>\n",
       "<ellipse fill=\"none\" stroke=\"black\" cx=\"299.49\" cy=\"-18\" rx=\"27\" ry=\"18\"/>\n",
       "<text text-anchor=\"middle\" x=\"299.49\" y=\"-14.3\" font-family=\"Times,serif\" font-size=\"14.00\">rich</text>\n",
       "</g>\n",
       "<!-- middle class&#45;&gt;rich -->\n",
       "<g id=\"edge5\" class=\"edge\">\n",
       "<title>middle class&#45;&gt;rich</title>\n",
       "<path fill=\"none\" stroke=\"black\" d=\"M216.62,-40.99C229.13,-39.26 242.36,-36.97 254.49,-34 258.38,-33.05 262.39,-31.87 266.35,-30.59\"/>\n",
       "<polygon fill=\"black\" stroke=\"black\" points=\"267.64,-33.84 275.94,-27.26 265.35,-27.23 267.64,-33.84\"/>\n",
       "<text text-anchor=\"middle\" x=\"245.49\" y=\"-40.8\" font-family=\"Times,serif\" font-size=\"14.00\">0.2</text>\n",
       "</g>\n",
       "<!-- rich&#45;&gt;poor -->\n",
       "<g id=\"edge6\" class=\"edge\">\n",
       "<title>rich&#45;&gt;poor</title>\n",
       "<path fill=\"none\" stroke=\"black\" d=\"M273.41,-12.58C267.24,-11.33 260.64,-10.05 254.49,-9 190.28,2.01 172.99,0.49 108,-4 93.09,-5.03 76.82,-7.61 62.86,-10.27\"/>\n",
       "<polygon fill=\"black\" stroke=\"black\" points=\"61.82,-6.91 52.7,-12.31 63.19,-13.78 61.82,-6.91\"/>\n",
       "<text text-anchor=\"middle\" x=\"163.25\" y=\"-7.8\" font-family=\"Times,serif\" font-size=\"14.00\">0.1</text>\n",
       "</g>\n",
       "<!-- rich&#45;&gt;middle class -->\n",
       "<g id=\"edge7\" class=\"edge\">\n",
       "<title>rich&#45;&gt;middle class</title>\n",
       "<path fill=\"none\" stroke=\"black\" d=\"M272.93,-13.91C261.66,-12.84 248.31,-12.57 236.49,-15 224.81,-17.4 212.68,-21.78 201.77,-26.5\"/>\n",
       "<polygon fill=\"black\" stroke=\"black\" points=\"200.2,-23.37 192.55,-30.69 203.1,-29.74 200.2,-23.37\"/>\n",
       "<text text-anchor=\"middle\" x=\"245.49\" y=\"-18.8\" font-family=\"Times,serif\" font-size=\"14.00\">0.1</text>\n",
       "</g>\n",
       "<!-- rich&#45;&gt;rich -->\n",
       "<g id=\"edge8\" class=\"edge\">\n",
       "<title>rich&#45;&gt;rich</title>\n",
       "<path fill=\"none\" stroke=\"black\" d=\"M289.92,-35.04C287.97,-44.86 291.16,-54 299.49,-54 304.7,-54 307.9,-50.43 309.09,-45.35\"/>\n",
       "<polygon fill=\"black\" stroke=\"black\" points=\"312.59,-45.03 309.06,-35.04 305.59,-45.05 312.59,-45.03\"/>\n",
       "<text text-anchor=\"middle\" x=\"299.49\" y=\"-57.8\" font-family=\"Times,serif\" font-size=\"14.00\">0.8</text>\n",
       "</g>\n",
       "</g>\n",
       "</svg>\n"
      ],
      "text/plain": [
       "<graphviz.graphs.Digraph at 0x155f87b50>"
      ]
     },
     "execution_count": 19,
     "metadata": {},
     "output_type": "execute_result"
    }
   ],
   "source": [
    "dot = Digraph(comment='Graph')\n",
    "dot.attr(rankdir='LR')\n",
    "dot.node(\"poor\")\n",
    "dot.node(\"middle class\")\n",
    "dot.node(\"rich\")\n",
    "\n",
    "dot.edge(\"poor\", \"poor\", label=\"0.9\")\n",
    "dot.edge(\"poor\", \"middle class\", label=\"0.1\")\n",
    "dot.edge(\"middle class\", \"poor\", label=\"0.4\")\n",
    "dot.edge(\"middle class\", \"middle class\", label=\"0.4\")\n",
    "dot.edge(\"middle class\", \"rich\", label=\"0.2\")\n",
    "dot.edge(\"rich\", \"poor\", label=\"0.1\")\n",
    "dot.edge(\"rich\", \"middle class\", label=\"0.1\")\n",
    "dot.edge(\"rich\", \"rich\", label=\"0.8\")\n",
    "\n",
    "dot"
   ]
  },
  {
   "cell_type": "code",
   "execution_count": 20,
   "id": "d44d3b1c-a450-4eed-a22d-e470343aa921",
   "metadata": {},
   "outputs": [],
   "source": [
    "# SUM the power to test the irreducibility"
   ]
  },
  {
   "cell_type": "markdown",
   "id": "bc2dc778-e535-4539-98d3-db0066510d79",
   "metadata": {},
   "source": [
    "We can translate this into a stochastic matrix, putting zeros where\n",
    "there's no edge between nodes\n",
    "\n",
    "$$\n",
    "P :=\n",
    "\\left(\n",
    "  \\begin{array}{ccc}\n",
    "     0.9 & 0.1 & 0 \\\\\n",
    "     0.4 & 0.4 & 0.2 \\\\\n",
    "     0.1 & 0.1 & 0.8\n",
    "  \\end{array}\n",
    "\\right)\n",
    "$$\n",
    "\n",
    "It's clear from the graph that this stochastic matrix is irreducible: we can  eventually\n",
    "reach any state from any other state.\n",
    "\n",
    "We can also test this using [QuantEcon.py](http://quantecon.org/quantecon-py)'s MarkovChain class"
   ]
  },
  {
   "cell_type": "code",
   "execution_count": 21,
   "id": "b4d35df1-cfc6-4edd-890a-61bf2e92418c",
   "metadata": {},
   "outputs": [
    {
     "data": {
      "text/plain": [
       "True"
      ]
     },
     "execution_count": 21,
     "metadata": {},
     "output_type": "execute_result"
    }
   ],
   "source": [
    "P = [[0.9, 0.1, 0.0],\n",
    "     [0.4, 0.4, 0.2],\n",
    "     [0.1, 0.1, 0.8]]\n",
    "\n",
    "mc = qe.MarkovChain(P, ('poor', 'middle', 'rich'))\n",
    "mc.is_irreducible\n"
   ]
  },
  {
   "cell_type": "markdown",
   "id": "0199cea9-d50c-4280-821f-5736fcfb319c",
   "metadata": {},
   "source": [
    "Here's a more pessimistic scenario in which  poor people remain poor forever"
   ]
  },
  {
   "cell_type": "markdown",
   "id": "763b3f7e",
   "metadata": {},
   "source": [
    "TODO: Hide this code"
   ]
  },
  {
   "cell_type": "code",
   "execution_count": 22,
   "id": "466fcade-5663-4fe5-8ff3-8d36f69a9347",
   "metadata": {},
   "outputs": [
    {
     "data": {
      "image/svg+xml": [
       "<?xml version=\"1.0\" encoding=\"UTF-8\" standalone=\"no\"?>\n",
       "<!DOCTYPE svg PUBLIC \"-//W3C//DTD SVG 1.1//EN\"\n",
       " \"http://www.w3.org/Graphics/SVG/1.1/DTD/svg11.dtd\">\n",
       "<!-- Generated by graphviz version 2.50.0 (0)\n",
       " -->\n",
       "<!-- Pages: 1 -->\n",
       "<svg width=\"226pt\" height=\"164pt\"\n",
       " viewBox=\"0.00 0.00 226.49 164.00\" xmlns=\"http://www.w3.org/2000/svg\" xmlns:xlink=\"http://www.w3.org/1999/xlink\">\n",
       "<g id=\"graph0\" class=\"graph\" transform=\"scale(1 1) rotate(0) translate(4 160)\">\n",
       "<polygon fill=\"white\" stroke=\"transparent\" points=\"-4,4 -4,-160 222.49,-160 222.49,4 -4,4\"/>\n",
       "<!-- poor -->\n",
       "<g id=\"node1\" class=\"node\">\n",
       "<title>poor</title>\n",
       "<ellipse fill=\"none\" stroke=\"black\" cx=\"191.49\" cy=\"-105\" rx=\"27\" ry=\"18\"/>\n",
       "<text text-anchor=\"middle\" x=\"191.49\" y=\"-101.3\" font-family=\"Times,serif\" font-size=\"14.00\">poor</text>\n",
       "</g>\n",
       "<!-- poor&#45;&gt;poor -->\n",
       "<g id=\"edge1\" class=\"edge\">\n",
       "<title>poor&#45;&gt;poor</title>\n",
       "<path fill=\"none\" stroke=\"black\" d=\"M181.92,-122.04C179.97,-131.86 183.16,-141 191.49,-141 196.7,-141 199.9,-137.43 201.09,-132.35\"/>\n",
       "<polygon fill=\"black\" stroke=\"black\" points=\"204.59,-132.03 201.06,-122.04 197.59,-132.05 204.59,-132.03\"/>\n",
       "<text text-anchor=\"middle\" x=\"191.49\" y=\"-144.8\" font-family=\"Times,serif\" font-size=\"14.00\">1.0</text>\n",
       "</g>\n",
       "<!-- middle class -->\n",
       "<g id=\"node2\" class=\"node\">\n",
       "<title>middle class</title>\n",
       "<ellipse fill=\"none\" stroke=\"black\" cx=\"55.25\" cy=\"-56\" rx=\"55.49\" ry=\"18\"/>\n",
       "<text text-anchor=\"middle\" x=\"55.25\" y=\"-52.3\" font-family=\"Times,serif\" font-size=\"14.00\">middle class</text>\n",
       "</g>\n",
       "<!-- middle class&#45;&gt;poor -->\n",
       "<g id=\"edge2\" class=\"edge\">\n",
       "<title>middle class&#45;&gt;poor</title>\n",
       "<path fill=\"none\" stroke=\"black\" d=\"M92.93,-69.39C113.25,-76.81 138.29,-85.95 157.92,-93.11\"/>\n",
       "<polygon fill=\"black\" stroke=\"black\" points=\"156.76,-96.41 167.36,-96.56 159.16,-89.84 156.76,-96.41\"/>\n",
       "<text text-anchor=\"middle\" x=\"137.49\" y=\"-90.8\" font-family=\"Times,serif\" font-size=\"14.00\">0.1</text>\n",
       "</g>\n",
       "<!-- middle class&#45;&gt;middle class -->\n",
       "<g id=\"edge3\" class=\"edge\">\n",
       "<title>middle class&#45;&gt;middle class</title>\n",
       "<path fill=\"none\" stroke=\"black\" d=\"M40.61,-73.41C37.87,-83.09 42.75,-92 55.25,-92 63.05,-92 67.89,-88.52 69.75,-83.54\"/>\n",
       "<polygon fill=\"black\" stroke=\"black\" points=\"73.25,-83.46 69.88,-73.41 66.25,-83.36 73.25,-83.46\"/>\n",
       "<text text-anchor=\"middle\" x=\"55.25\" y=\"-95.8\" font-family=\"Times,serif\" font-size=\"14.00\">0.8</text>\n",
       "</g>\n",
       "<!-- rich -->\n",
       "<g id=\"node3\" class=\"node\">\n",
       "<title>rich</title>\n",
       "<ellipse fill=\"none\" stroke=\"black\" cx=\"191.49\" cy=\"-18\" rx=\"27\" ry=\"18\"/>\n",
       "<text text-anchor=\"middle\" x=\"191.49\" y=\"-14.3\" font-family=\"Times,serif\" font-size=\"14.00\">rich</text>\n",
       "</g>\n",
       "<!-- middle class&#45;&gt;rich -->\n",
       "<g id=\"edge4\" class=\"edge\">\n",
       "<title>middle class&#45;&gt;rich</title>\n",
       "<path fill=\"none\" stroke=\"black\" d=\"M101.49,-46C115.96,-42.52 131.98,-38.39 146.49,-34 150.32,-32.84 154.3,-31.54 158.24,-30.18\"/>\n",
       "<polygon fill=\"black\" stroke=\"black\" points=\"159.56,-33.43 167.81,-26.78 157.22,-26.83 159.56,-33.43\"/>\n",
       "<text text-anchor=\"middle\" x=\"137.49\" y=\"-41.8\" font-family=\"Times,serif\" font-size=\"14.00\">0.1</text>\n",
       "</g>\n",
       "<!-- rich&#45;&gt;middle class -->\n",
       "<g id=\"edge5\" class=\"edge\">\n",
       "<title>rich&#45;&gt;middle class</title>\n",
       "<path fill=\"none\" stroke=\"black\" d=\"M165.39,-13.36C153.96,-12.12 140.37,-11.86 128.49,-15 113.9,-18.85 99.17,-26.4 86.86,-33.98\"/>\n",
       "<polygon fill=\"black\" stroke=\"black\" points=\"84.86,-31.1 78.35,-39.46 88.65,-36.99 84.86,-31.1\"/>\n",
       "<text text-anchor=\"middle\" x=\"137.49\" y=\"-18.8\" font-family=\"Times,serif\" font-size=\"14.00\">0.2</text>\n",
       "</g>\n",
       "<!-- rich&#45;&gt;rich -->\n",
       "<g id=\"edge6\" class=\"edge\">\n",
       "<title>rich&#45;&gt;rich</title>\n",
       "<path fill=\"none\" stroke=\"black\" d=\"M181.92,-35.04C179.97,-44.86 183.16,-54 191.49,-54 196.7,-54 199.9,-50.43 201.09,-45.35\"/>\n",
       "<polygon fill=\"black\" stroke=\"black\" points=\"204.59,-45.03 201.06,-35.04 197.59,-45.05 204.59,-45.03\"/>\n",
       "<text text-anchor=\"middle\" x=\"191.49\" y=\"-57.8\" font-family=\"Times,serif\" font-size=\"14.00\">0.8</text>\n",
       "</g>\n",
       "</g>\n",
       "</svg>\n"
      ],
      "text/plain": [
       "<graphviz.graphs.Digraph at 0x155f87460>"
      ]
     },
     "execution_count": 22,
     "metadata": {},
     "output_type": "execute_result"
    }
   ],
   "source": [
    "dot = Digraph(comment='Graph')\n",
    "dot.attr(rankdir='LR')\n",
    "dot.node(\"poor\")\n",
    "dot.node(\"middle class\")\n",
    "dot.node(\"rich\")\n",
    "\n",
    "dot.edge(\"poor\", \"poor\", label=\"1.0\")\n",
    "dot.edge(\"middle class\", \"poor\", label=\"0.1\")\n",
    "dot.edge(\"middle class\", \"middle class\", label=\"0.8\")\n",
    "dot.edge(\"middle class\", \"rich\", label=\"0.1\")\n",
    "dot.edge(\"rich\", \"middle class\", label=\"0.2\")\n",
    "dot.edge(\"rich\", \"rich\", label=\"0.8\")\n",
    "\n",
    "dot"
   ]
  },
  {
   "cell_type": "markdown",
   "id": "efdc1a47-da8e-4834-ae29-d66e234cb069",
   "metadata": {},
   "source": [
    "This stochastic matrix is not irreducible, since, for example, rich is not\n",
    "accessible from poor.\n",
    "\n",
    "Let's confirm this"
   ]
  },
  {
   "cell_type": "code",
   "execution_count": 23,
   "id": "0c654ac0-d1b5-461a-8d04-b6df9751577d",
   "metadata": {},
   "outputs": [
    {
     "data": {
      "text/plain": [
       "False"
      ]
     },
     "execution_count": 23,
     "metadata": {},
     "output_type": "execute_result"
    }
   ],
   "source": [
    "\n",
    "P = [[1.0, 0.0, 0.0],\n",
    "     [0.1, 0.8, 0.1],\n",
    "     [0.0, 0.2, 0.8]]\n",
    "\n",
    "mc = qe.MarkovChain(P, ('poor', 'middle', 'rich'))\n",
    "mc.is_irreducible"
   ]
  },
  {
   "cell_type": "markdown",
   "id": "778f7d14-c608-4dc5-b050-d222287f00dd",
   "metadata": {},
   "source": [
    "We can also determine the \"communication classes\""
   ]
  },
  {
   "cell_type": "code",
   "execution_count": 24,
   "id": "a3e20f9d-4124-491d-a03a-7795119c877e",
   "metadata": {},
   "outputs": [
    {
     "data": {
      "text/plain": [
       "[array(['poor'], dtype='<U6'), array(['middle', 'rich'], dtype='<U6')]"
      ]
     },
     "execution_count": 24,
     "metadata": {},
     "output_type": "execute_result"
    }
   ],
   "source": [
    "mc.communication_classes"
   ]
  },
  {
   "cell_type": "markdown",
   "id": "422fe558",
   "metadata": {},
   "source": [
    "It might be clear to you already that irreducibility is going to be important\n",
    "in terms of long run outcomes.\n",
    "\n",
    "For example, poverty is a life sentence in the second graph but not the first.\n",
    "\n",
    "We'll come back to this a bit later.\n"
   ]
  },
  {
   "cell_type": "markdown",
   "id": "d105cf67",
   "metadata": {
    "tags": []
   },
   "source": [
    "(ergodicity)=\n",
    "## Ergodicity \n",
    "\n",
    "Under irreducibility, yet another important result obtains: "
   ]
  },
  {
   "cell_type": "markdown",
   "id": "86da8371",
   "metadata": {},
   "source": [
    "TODO -- convert to environment\n",
    "\n",
    "Theorem:  If $P$ is irreducible and $\\psi^*$ is the unique stationary\n",
    "distribition, then, for all $x \\in S$,\n",
    "\n",
    "```{math}\n",
    ":label: llnfmc0\n",
    "\n",
    "\\frac{1}{m} \\sum_{t = 1}^m \\mathbf{1}\\{X_t = x\\}  \\to \\psi^*(x)\n",
    "    \\quad \\text{as } m \\to \\infty\n",
    "```\n",
    "\n",
    "Here\n",
    "\n",
    "* $\\{X_t\\}$ is a Markov chain with stochastic matrix $P$ and initial\n",
    "  distribition $\\psi_0$\n",
    "* $\\mathbf{1}\\{X_t = x\\} = 1$ if $X_t = x$ and zero otherwise\n",
    "\n",
    "TODO -- in the next line, refer to the theorem by number.\n",
    "\n",
    "The result in theorem XXX is sometimes called **ergodicity**.\n",
    "\n",
    "Unlike stationarity, erogdicity is a sample path property\n",
    "\n",
    "The theorem tells us that the fraction of time the chain spends at state $x$\n",
    "converges to $\\psi^*(x)$ as time goes to infinity.\n",
    "\n",
    "(new_interp_sd)=\n",
    "This gives us another way to interpret the stationary distribution (provided irreducibility holds).\n",
    "\n",
    "Importantly, the result is valid for any choice of $\\psi_0$.\n",
    "\n",
    "Notice that the theorem is related to the law of large numbers.\n",
    "\n",
    "TODO -- link to our undergrad lln and clt lecture\n",
    "\n",
    "It tells us that, in some settings, the law of large numbers sometimes holds even when the\n",
    "sequence of random variables is not IID.\n"
   ]
  },
  {
   "cell_type": "markdown",
   "id": "75e7813f",
   "metadata": {},
   "source": [
    "TODO --- add the Hamilton2005 Markov chain as an example, similar to the one\n",
    "below.\n",
    "\n",
    "(mc_eg1-2)=\n",
    "### Example\n",
    "\n",
    "Recall our cross-sectional interpretation of the employment/unemployment model {ref}`discussed above <mc_eg1-1>`.\n",
    "\n",
    "Assume that $\\alpha \\in (0,1)$ and $\\beta \\in (0,1)$, so that irreducibility and aperiodicity both hold.\n",
    "\n",
    "We saw that the stationary distribution is $(p, 1-p)$, where\n",
    "\n",
    "$$\n",
    "p = \\frac{\\beta}{\\alpha + \\beta}\n",
    "$$\n",
    "\n",
    "In the cross-sectional interpretation, this is the fraction of people unemployed.\n",
    "\n",
    "In view of our latest (ergodicity) result, it is also the fraction of time that a single worker can expect to spend unemployed.\n",
    "\n",
    "Thus, in the long-run, cross-sectional averages for a population and time-series averages for a given person coincide.\n",
    "\n",
    "This is one aspect of the concept of ergodicity.\n",
    "\n",
    "Similarly, for Hamilton example {ref}`discussed above <mc_eg2>`. \n",
    "\n",
    "On this aperiodic model, it is possible to find a power of the matrix, which guarantees our model will visit all the state space. \n",
    "\n",
    "You can see how it condition relates to Theorem ### TODO -- in the next line, refer to the theorem by number.\n",
    "\n",
    "The stochastic matrix is irreducible and there is a "
   ]
  },
  {
   "cell_type": "code",
   "execution_count": 27,
   "id": "64c97fac-8dab-4fef-ad9a-fba0f500c98c",
   "metadata": {},
   "outputs": [
    {
     "data": {
      "image/png": "[encoded data removed]",
      "text/plain": [
       "<Figure size 1100x500 with 3 Axes>"
      ]
     },
     "metadata": {},
     "output_type": "display_data"
    }
   ],
   "source": [
    "P = np.array([[0.971, 0.029, 0.000],\n",
    "              [0.145, 0.778, 0.077],\n",
    "              [0.000, 0.508, 0.492]])\n",
    "N = 10_000\n",
    "mc = MarkovChain(P)\n",
    "n_state = P.shape[1]\n",
    "fig, axes = plt.subplots(nrows=1, ncols=n_state)\n",
    "ψ_star = mc.stationary_distributions[0]\n",
    "for i in range(n_state):\n",
    "    axes[i].grid()\n",
    "    axes[i].axhline(ψ_star[i], linestyle='dashed', lw=2, color = 'black', label = fr'$\\psi_{i}^*$')\n",
    "\n",
    "    for x0, col in ((0, 'blue'), (1, 'green'), (2, 'red')):\n",
    "        # Generate time series for worker that starts at x0\n",
    "        X = mc.simulate(N, init=x0)\n",
    "        # Compute fraction of time spent, for each n\n",
    "        X_bar = (X == i).cumsum() / (1 + np.arange(N, dtype=float))\n",
    "        # Plot\n",
    "        axes[i].plot(X_bar, color=col, label=f'$X_0 = \\, {x0} $')\n",
    "\n",
    "    axes[i].legend()\n",
    "plt.show()"
   ]
  },
  {
   "cell_type": "code",
   "execution_count": null,
   "id": "43246ff5-ae3c-4d9a-a110-cc0ce5277e20",
   "metadata": {},
   "outputs": [],
   "source": [
    "P = np.array([[0, 1],\n",
    "              [1, 0]])\n",
    "N = 1000\n",
    "mc = MarkovChain(P)\n",
    "n_state = P.shape[1]\n",
    "fig, axes = plt.subplots(nrows=1, ncols=n_state)\n",
    "ψ_star = mc.stationary_distributions[0]\n",
    "for i in range(n_state):\n",
    "    axes[i].grid()\n",
    "    axes[i].axhline(ψ_star[i], linestyle='dashed', lw=2, color = 'black', label = fr'$\\psi_{i}$')\n",
    "\n",
    "    for x0 in range(n_state):\n",
    "        # Generate time series for worker that starts at x0\n",
    "        X = mc.simulate(N, init=x0)\n",
    "        # Compute fraction of time spent, for each n\n",
    "        X_bar = (X == i).cumsum() / (1 + np.arange(N, dtype=float))\n",
    "        # Plot\n",
    "        axes[i].plot(X_bar, label=f'$X_0 = \\, {x0} $')\n",
    "\n",
    "    axes[i].legend()\n",
    "plt.show()"
   ]
  },
  {
   "cell_type": "markdown",
   "id": "8163ed1f-9884-48f9-91ac-bbb33ce85ee4",
   "metadata": {},
   "source": [
    "Such distributions are called **stationary** or **invariant**.\n",
    "\n",
    "(mc_stat_dd)=\n",
    "Formally, a marginal distribution $\\psi^*$ on $S$ is called **stationary** for $P$ if $\\psi^* = \\psi^* P$.\n",
    "\n",
    "From this equality, we immediately get $\\psi^* = \\psi^* P^t$ for all $t$.\n",
    "\n",
    "This tells us an important fact: If the distribution of $X_0$ is a stationary distribution, then $X_t$ will have this same distribution for all $t$."
   ]
  },
  {
   "cell_type": "markdown",
   "id": "b220a3b6",
   "metadata": {},
   "source": [
    "TODO -- convert to theorem environment\n",
    "\n",
    "**Theorem.** Every stochastic matrix $P$ has at least one stationary distribution.\n",
    "\n",
    "A proof of this theorem can be constructed from the Perron-Frobenius theorem,\n",
    "which we discuss in another lecture.\n",
    "\n",
    "TODO -- link to eigenvector and eigenvalue\n",
    "\n",
    "Note that there can be many stationary distributions corresponding to a given\n",
    "stochastic matrix $P$.\n",
    "\n",
    "* For example, if $P$ is the identity matrix, then all marginal distributions are stationary.\n",
    "\n",
    "To get uniqueness, we need the Markov chain to \"mix around,\" so that the state\n",
    "doesn't get stuck in some part of the state space.\n",
    "\n",
    "This gives some intuition for the following fundamental theorem.\n",
    "\n",
    "TODO -- convert to theorem environment\n",
    "\n",
    "(mc_conv_thm)=\n",
    "**Theorem.** If $P$ is irreducible, then $P$ has exactly one stationary\n",
    "distribution $\\psi^*$.\n",
    "\n",
    "For a proof, see, for example, theorem 5.2 of {cite}`haggstrom2002finite`."
   ]
  },
  {
   "cell_type": "markdown",
   "id": "326b769d",
   "metadata": {},
   "source": [
    "### Example\n",
    "\n",
    "Recall our model of the employment/unemployment dynamics of a particular worker {ref}`discussed above <mc_eg1>`.\n",
    "\n",
    "If $\\alpha \\in (0,1)$ and $\\beta \\in (0,1)$, then the irreducibility condition is satisfied.\n",
    "\n",
    "Let $\\psi^* = (p, 1-p)$ be the stationary distribution, so that $p$\n",
    "corresponds to unemployment (state 0).\n",
    "\n",
    "Using $\\psi^* = \\psi^* P$ and a bit of algebra yields\n",
    "\n",
    "$$\n",
    "    p = \\frac{\\beta}{\\alpha + \\beta}\n",
    "$$\n",
    "\n",
    "This is, in some sense, a steady state probability of unemployment.\n",
    "\n",
    "Not surprisingly it tends to zero as $\\beta \\to 0$, and to one as $\\alpha \\to 0$.\n"
   ]
  },
  {
   "cell_type": "markdown",
   "id": "91a17591",
   "metadata": {
    "tags": []
   },
   "source": [
    "## Stationary Distributions "
   ]
  },
  {
   "cell_type": "markdown",
   "id": "7dc9e221",
   "metadata": {},
   "source": [
    "As seen in {eq}`fin_mc_fr`, we can shift a marginal distribution forward one\n",
    "unit of time via postmultiplication by $P$.\n",
    "\n",
    "Some distributions are invariant under this updating process --- for example,"
   ]
  },
  {
   "cell_type": "code",
   "execution_count": null,
   "id": "f53da798-4091-4a5f-992d-1f9608323507",
   "metadata": {},
   "outputs": [],
   "source": [
    "P = np.array([[0.4, 0.6],\n",
    "              [0.2, 0.8]])\n",
    "ψ = (0.25, 0.75)\n",
    "ψ @ P"
   ]
  },
  {
   "cell_type": "markdown",
   "id": "dc4413f9",
   "metadata": {},
   "source": [
    "### Calculating Stationary Distributions\n",
    "\n",
    "A stable algorithm for computing stationary distributions is implemented in [QuantEcon.py](http://quantecon.org/quantecon-py).\n",
    "\n",
    "Here's an example"
   ]
  },
  {
   "cell_type": "code",
   "execution_count": null,
   "id": "4f1d8010-49fd-4414-ace1-c1fae671d617",
   "metadata": {},
   "outputs": [],
   "source": [
    "P = [[0.4, 0.6],\n",
    "     [0.2, 0.8]]\n",
    "\n",
    "mc = qe.MarkovChain(P)\n",
    "mc.stationary_distributions  # Show all stationary distributions"
   ]
  },
  {
   "cell_type": "markdown",
   "id": "1d72cc44",
   "metadata": {},
   "source": [
    "### Convergence to Stationarity\n",
    "\n",
    "Sometimes the distribution $\\psi_t = \\psi_0 P^t$ of $X_t$ converges to the\n",
    "stationary distribution regardless of where we begin.\n",
    "\n",
    "For example, we have the following result\n",
    "\n",
    "TODO -- convert to theorem environment\n",
    "\n",
    "Theorem: If there exists a an integer $m$ such that all entries of $P^m$ are\n",
    "strictly positive, then $P$ has only one stationary distribution $\\psi^*$ and\n",
    "\n",
    "$$\n",
    "    \\psi_0 P^t \\to \\psi\n",
    "    \\quad \\text{as } t \\to \\infty\n",
    "$$    \n",
    "\n",
    "(See, for example, {cite}`haggstrom2002finite`. Our assumptions imply that $P$\n",
    "is irreducible and [aperiodic](https://en.wikipedia.org/wiki/Aperiodic_graph).)\n",
    "\n",
    "\n",
    "\n",
    "The convergence in the theorem is illustrated in the next figure"
   ]
  },
  {
   "cell_type": "code",
   "execution_count": null,
   "id": "adf45d83-0fea-4798-8b62-761b866933bf",
   "metadata": {},
   "outputs": [],
   "source": [
    "P = ((0.971, 0.029, 0.000),\n",
    "     (0.145, 0.778, 0.077),\n",
    "     (0.000, 0.508, 0.492))\n",
    "P = np.array(P)\n",
    "\n",
    "ψ_1 = (0.0, 0.2, 0.8)        # Initial conditions\n",
    "ψ_2 = (0.25, 0.25, 0.5)  \n",
    "fig = plt.figure(figsize=(8, 6))\n",
    "ax = fig.add_subplot(111, projection='3d')\n",
    "\n",
    "ax.set(xlim=(0, 1), ylim=(0, 1), zlim=(0, 1),\n",
    "       xticks=(0.25, 0.5, 0.75),\n",
    "       yticks=(0.25, 0.5, 0.75),\n",
    "       zticks=(0.25, 0.5, 0.75))\n",
    "\n",
    "def simulate_ψ(ψ, P, n):\n",
    "    x_vals, y_vals, z_vals = [], [], []\n",
    "    for t in range(n):\n",
    "        x_vals.append(ψ[0])\n",
    "        y_vals.append(ψ[1])\n",
    "        z_vals.append(ψ[2])\n",
    "        ψ = ψ @ P\n",
    "    return x_vals, y_vals, z_vals\n",
    "\n",
    "ax.scatter(*simulate_ψ(ψ_1, P, 30), c='r', s=60, alpha=0.3)\n",
    "ax.scatter(*simulate_ψ(ψ_2, P, 100), c='g', s=60, alpha=0.3)\n",
    "ax.view_init(30, 210)\n",
    "\n",
    "mc = qe.MarkovChain(P)\n",
    "ψ_star = mc.stationary_distributions[0]\n",
    "ax.scatter(ψ_star[0], ψ_star[1], ψ_star[2], c='k', s=150)\n",
    "\n",
    "plt.show()"
   ]
  },
  {
   "cell_type": "markdown",
   "id": "51fcebab-9d97-46b4-9309-7a0d033b2c4f",
   "metadata": {},
   "source": [
    "Here\n",
    "\n",
    "* $P$ is the stochastic matrix for recession and growth {ref}`considered above <mc_eg2>`.\n",
    "* The highest red dot is an arbitrarily chosen initial marginal probability distribution  $\\psi$, represented as a vector in $\\mathbb R^3$.\n",
    "* The other red dots are the marginal distributions $\\psi P^t$ for $t = 1, 2, \\ldots$.\n",
    "* The black dot is $\\psi^*$.\n",
    "\n",
    "You might like to try experimenting with different initial conditions."
   ]
  },
  {
   "cell_type": "code",
   "execution_count": null,
   "id": "e5771981-c384-4186-a08a-b3c5fc939349",
   "metadata": {},
   "outputs": [],
   "source": [
    "import random\n",
    "\n",
    "# Define the transition matrix\n",
    "P = np.array([[0.971, 0.029, 0.000],\n",
    "              [0.145, 0.778, 0.077],\n",
    "              [0.000, 0.508, 0.492]])\n",
    "n = 25\n",
    "n_state = P.shape[0]\n",
    "mc = qe.MarkovChain(P)\n",
    "ψ_star = mc.stationary_distributions[0]\n",
    "fig, axes = plt.subplots(nrows=1, ncols=n_state)\n",
    "x0s = np.ones((n, n_state))\n",
    "for i in range(n):\n",
    "    # Define the initial state\n",
    "    nums = np.random.randint(1, 10_000_000, size=n_state)\n",
    "    x0s[i,:] = np.array(nums/sum(nums))\n",
    "# Define the number of iterations\n",
    "n = 50\n",
    "\n",
    "for x0 in x0s:\n",
    "    # Define the resulting state\n",
    "    x = x0\n",
    "    # Define the sum of all resulting states\n",
    "    x_sum = np.zeros(n_state)\n",
    "    X = np.zeros((n,n_state))\n",
    "    # Simulate the LLN_0\n",
    "    for i in range(1, n):\n",
    "        x =  x @ P \n",
    "        X[i] = x\n",
    "    for i in range(n_state):\n",
    "        axes[i].plot(range(0, n), X[:,i], alpha=0.3)\n",
    "    \n",
    "np.mean(X == 0)\n",
    "for i in range(n_state):\n",
    "    axes[i].axhline(ψ_star[i], linestyle='dashed', lw=2, color = 'black', label = fr'$\\psi_{i}^*$')\n",
    "    axes[i].legend()\n",
    "\n",
    "plt.show()\n",
    "# Calculate the average of all resulting states\n",
    "print(X.shape)\n",
    "x_avg = np.sum(X, axis = 0) / n\n",
    "\n",
    "print(f\"The average of all resulting states: {x_avg}, and the stationary distribution is {ψ_star}\")"
   ]
  },
  {
   "cell_type": "code",
   "execution_count": null,
   "id": "3afa1f39-ff20-48ea-8337-e56add5b91a6",
   "metadata": {
    "tags": []
   },
   "outputs": [],
   "source": [
    "import random\n",
    "\n",
    "P2 = np.array([[0, 1],\n",
    "              [1, 0]])\n",
    "n = 25\n",
    "n_state = P.shape[0]\n",
    "mc = qe.MarkovChain(P)\n",
    "ψ_star = mc.stationary_distributions[0]\n",
    "fig, axes = plt.subplots(nrows=1, ncols=n_state)\n",
    "x0s = np.ones((n, n_state))\n",
    "for i in range(n):\n",
    "    # Define the initial state\n",
    "    nums = np.random.randint(1, 10_000_000, size=n_state)\n",
    "    x0s[i,:] = np.array(nums/sum(nums))\n",
    "# Define the number of iterations\n",
    "n = 50\n",
    "\n",
    "for x0 in x0s:\n",
    "    # Define the resulting state\n",
    "    x = x0\n",
    "    # Define the sum of all resulting states\n",
    "    x_sum = np.zeros(n_state)\n",
    "    X = np.zeros((n,n_state))\n",
    "    \n",
    "    for i in range(1, n):\n",
    "        x = x @ P2\n",
    "        X[i] = x\n",
    "    for i in range(n_state):\n",
    "        axes[i].plot(range(20, n), X[20:,i], alpha=0.3)\n",
    "    \n",
    "for i in range(n_state):\n",
    "    axes[i].axhline(ψ_star[i], linestyle='dashed', lw=2, color = 'black', label = fr'$\\psi_{i}^*$')\n",
    "    axes[i].legend()\n",
    "\n",
    "plt.show()\n",
    "# Calculate the average of all resulting states\n",
    "print(X.shape)\n",
    "x_avg = np.sum(X, axis = 0) / n\n",
    "\n",
    "print(f\"The average of all resulting states: {x_avg}, and the stationary distribution is {ψ_star}\")"
   ]
  },
  {
   "cell_type": "markdown",
   "id": "8ed42fb7",
   "metadata": {},
   "source": [
    "(finite_mc_expec)=\n",
    "## Computing Expectations\n",
    "\n",
    "Sample path property and distribution property\n",
    "\n",
    "```{index} single: Markov Chains; Forecasting Future Values\n",
    "```\n",
    "\n",
    "We sometimes want to  compute mathematical  expectations of functions of $X_t$ of the form\n",
    "\n",
    "```{math}\n",
    ":label: mc_une\n",
    "\n",
    "\\mathbb E [ h(X_t) ]\n",
    "```\n",
    "\n",
    "and conditional expectations such as\n",
    "\n",
    "```{math}\n",
    ":label: mc_cce\n",
    "\n",
    "\\mathbb E [ h(X_{t + k})  \\mid X_t = x]\n",
    "```\n",
    "\n",
    "where\n",
    "\n",
    "* $\\{X_t\\}$ is a Markov chain generated by $n \\times n$ stochastic matrix $P$\n",
    "* $h$ is a given function, which, in terms of matrix\n",
    "  algebra, we'll think of as the column vector\n",
    "\n",
    "$$\n",
    "h\n",
    "= \\left(\n",
    "\\begin{array}{c}\n",
    "    h(x_1) \\\\\n",
    "    \\vdots \\\\\n",
    "    h(x_n)\n",
    "\\end{array}\n",
    "  \\right)\n",
    "$$\n",
    "\n",
    "Computing the unconditional expectation {eq}`mc_une` is easy."
   ]
  },
  {
   "cell_type": "markdown",
   "id": "3c3d04a1",
   "metadata": {},
   "source": [
    "We just sum over the marginal  distribution  of $X_t$ to get\n",
    "\n",
    "$$\n",
    "\\mathbb E [ h(X_t) ]\n",
    "= \\sum_{x \\in S} (\\psi P^t)(x) h(x)\n",
    "$$\n",
    "\n",
    "Here $\\psi$ is the distribution of $X_0$.\n",
    "\n",
    "Since $\\psi$ and hence $\\psi P^t$ are row vectors, we can also\n",
    "write this as\n",
    "\n",
    "$$\n",
    "\\mathbb E [ h(X_t) ]\n",
    "=  \\psi P^t h\n",
    "$$\n",
    "\n",
    "For the conditional expectation {eq}`mc_cce`, we need to sum over\n",
    "the conditional distribution of $X_{t + k}$ given $X_t = x$.\n",
    "\n",
    "We already know that this is $P^k(x, \\cdot)$, so\n",
    "\n",
    "```{math}\n",
    ":label: mc_cce2\n",
    "\n",
    "\\mathbb E [ h(X_{t + k})  \\mid X_t = x]\n",
    "= (P^k h)(x)\n",
    "```\n",
    "\n",
    "The vector $P^k h$ stores the conditional expectation $\\mathbb E [ h(X_{t + k})  \\mid X_t = x]$ over all $x$.\n",
    "\n"
   ]
  },
  {
   "cell_type": "markdown",
   "id": "388444cd",
   "metadata": {},
   "source": [
    "### Expectations of Geometric Sums\n",
    "\n",
    "Sometimes we want to compute the mathematical expectation of a geometric sum, such as\n",
    "$\\sum_t \\beta^t h(X_t)$.\n",
    "\n",
    "In view of the preceding discussion, this is\n",
    "\n",
    "$$\n",
    "\\mathbb{E} [\n",
    "        \\sum_{j=0}^\\infty \\beta^j h(X_{t+j}) \\mid X_t = x\n",
    "    \\Bigr]\n",
    "= [(I - \\beta P)^{-1} h](x)\n",
    "$$\n",
    "\n",
    "where\n",
    "\n",
    "$$\n",
    "(I - \\beta P)^{-1}  = I + \\beta P + \\beta^2 P^2 + \\cdots\n",
    "$$\n",
    "\n",
    "TODO -- connect to the Neumann series lemma (Maanasee)"
   ]
  },
  {
   "cell_type": "markdown",
   "id": "a066a968",
   "metadata": {},
   "source": [
    "TODO -- add more exercises.\n"
   ]
  },
  {
   "cell_type": "markdown",
   "id": "700a1d36",
   "metadata": {},
   "source": [
    "## Exercises\n",
    "\n",
    "```{exercise} \n",
    ":label: fm_ex1\n",
    "\n",
    "According to the discussion {ref}`above <mc_eg1-2>`, if a worker's employment dynamics obey the stochastic matrix\n",
    "\n",
    "$$\n",
    "P\n",
    "= \\left(\n",
    "\\begin{array}{cc}\n",
    "    1 - \\alpha & \\alpha \\\\\n",
    "    \\beta & 1 - \\beta\n",
    "\\end{array}\n",
    "  \\right)\n",
    "$$\n",
    "\n",
    "with $\\alpha \\in (0,1)$ and $\\beta \\in (0,1)$, then, in the long-run, the fraction\n",
    "of time spent unemployed will be\n",
    "\n",
    "$$\n",
    "p := \\frac{\\beta}{\\alpha + \\beta}\n",
    "$$\n",
    "\n",
    "In other words, if $\\{X_t\\}$ represents the Markov chain for\n",
    "employment, then $\\bar X_m \\to p$ as $m \\to \\infty$, where\n",
    "\n",
    "$$\n",
    "\\bar X_m := \\frac{1}{m} \\sum_{t = 1}^m \\mathbf{1}\\{X_t = 0\\}\n",
    "$$\n",
    "\n",
    "This exercise asks you to illustrate convergence by computing\n",
    "$\\bar X_m$ for large $m$ and checking that\n",
    "it is close to $p$.\n",
    "\n",
    "You will see that this statement is true regardless of the choice of initial\n",
    "condition or the values of $\\alpha, \\beta$, provided both lie in\n",
    "$(0, 1)$.\n",
    "```"
   ]
  },
  {
   "cell_type": "markdown",
   "id": "a8165eaf",
   "metadata": {},
   "source": [
    "```{solution-start} fm_ex1\n",
    ":class: dropdown\n",
    "```\n",
    "\n",
    "We will address this exercise graphically.\n",
    "\n",
    "The plots show the time series of $\\bar X_m - p$ for two initial\n",
    "conditions.\n",
    "\n",
    "As $m$ gets large, both series converge to zero.\n"
   ]
  },
  {
   "cell_type": "code",
   "execution_count": null,
   "id": "e0d2fffe-e219-49bb-9d1b-65d94e14f9fb",
   "metadata": {},
   "outputs": [],
   "source": [
    "α = β = 0.1\n",
    "N = 10000\n",
    "p = β / (α + β)\n",
    "\n",
    "P = ((1 - α,       α),               # Careful: P and p are distinct\n",
    "     (    β,   1 - β))\n",
    "mc = MarkovChain(P)\n",
    "\n",
    "fig, ax = plt.subplots(figsize=(9, 6))\n",
    "ax.set_ylim(-0.25, 0.25)\n",
    "ax.grid()\n",
    "ax.hlines(0, 0, N, lw=2, alpha=0.6)   # Horizonal line at zero\n",
    "\n",
    "for x0, col in ((0, 'blue'), (1, 'green')):\n",
    "    # Generate time series for worker that starts at x0\n",
    "    X = mc.simulate(N, init=x0)\n",
    "    # Compute fraction of time spent unemployed, for each n\n",
    "    X_bar = (X == 0).cumsum() / (1 + np.arange(N, dtype=float))\n",
    "    # Plot\n",
    "    ax.fill_between(range(N), np.zeros(N), X_bar - p, color=col, alpha=0.1)\n",
    "    ax.plot(X_bar - p, color=col, label=f'$X_0 = \\, {x0} $')\n",
    "    # Overlay in black--make lines clearer\n",
    "    ax.plot(X_bar - p, 'k-', alpha=0.6)\n",
    "\n",
    "ax.legend(loc='upper right')\n",
    "plt.show()"
   ]
  },
  {
   "cell_type": "markdown",
   "id": "251ff089-8914-4b01-aecb-8519026156a3",
   "metadata": {},
   "source": [
    "```{solution-end}\n",
    "```"
   ]
  },
  {
   "cell_type": "code",
   "execution_count": null,
   "id": "f3908747-495b-45ad-b8f0-18d5e1f1a7f1",
   "metadata": {},
   "outputs": [],
   "source": [
    "import scipy.stats as st\n",
    "\n",
    "# Linear Idependent of Normal Normal.\n",
    "n = 100000\n",
    "x = np.ones(n+1)\n",
    "σ = 5\n",
    "α = 0.9\n",
    "β = 0.1\n",
    "x[0] = st.norm.rvs(α/(1-β), np.power(α, 2)/(1-np.power(β, 2)))\n",
    "ϵ = st.norm.rvs(size=n+1\n",
    "for t in range(n):\n",
    "    x[t+1] = α + β * x[t] + σ * ϵ[t+1]\n",
    "print(x)\n",
    "\n",
    "mean = α/(1-β)\n",
    "var = σ\n",
    "X = np.linspace(mean-5*np.sqrt(var), mean+5*np.sqrt(var), 1001)\n",
    "pdf = st.norm.pdf(X, mean, var)\n",
    "\n",
    "plt.plot(X, pdf, label=\"Theoretical Stationary Distribution\")\n",
    "plt.hist(x, bins=50, density=True, alpha=0.5, label=\"Generated Samples\")\n",
    "plt.legend()\n",
    "plt.show()"
   ]
  },
  {
   "cell_type": "code",
   "execution_count": null,
   "id": "898bd0d0-9ee3-4851-b12b-557ffd1d1139",
   "metadata": {},
   "outputs": [],
   "source": []
  }
 ],
 "metadata": {
  "jupytext": {
   "cell_metadata_filter": "-all",
   "main_language": "python",
   "notebook_metadata_filter": "-all"
  },
  "kernelspec": {
   "display_name": "Python 3 (ipykernel)",
   "language": "python",
   "name": "python3"
  },
  "language_info": {
   "codemirror_mode": {
    "name": "ipython",
    "version": 3
   },
   "file_extension": ".py",
   "mimetype": "text/x-python",
   "name": "python",
   "nbconvert_exporter": "python",
   "pygments_lexer": "ipython3",
   "version": "3.9.15"
  },
  "vscode": {
   "interpreter": {
    "hash": "610c699f0cd8c4f129acd9140687fff6866bed0eb8e82f249fc8848b827b628c"
   }
  }
 },
 "nbformat": 4,
 "nbformat_minor": 5
}
