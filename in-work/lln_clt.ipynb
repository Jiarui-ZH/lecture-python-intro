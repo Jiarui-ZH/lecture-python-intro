{
 "cells": [
  {
   "cell_type": "markdown",
   "id": "abbf8725",
   "metadata": {},
   "source": [
    "## LLN and CLT\n",
    "\n",
    "## Overview\n",
    "\n",
    "This lecture illustrates two of the most important theorems of probability and statistics: The\n",
    "law of large numbers (LLN) and the central limit theorem (CLT).\n",
    "\n",
    "These beautiful theorems lie behind many of the most fundamental results in econometrics and quantitative economic modeling.\n",
    "\n",
    "The lecture is based around simulations that show the LLN and CLT in action.\n",
    "\n",
    "We also demonstrate how the LLN and CLT break down when the assumptions they are based on do not hold.\n",
    "\n",
    "In addition, we examine several useful extensions of the classical theorems, such as\n",
    "\n",
    "* The delta method, for smooth functions of random variables, and\n",
    "* the multivariate case.\n",
    "\n",
    "Some of these extensions are presented as exercises.\n",
    "\n",
    "We'll need the following imports:"
   ]
  },
  {
   "cell_type": "code",
   "execution_count": 1,
   "id": "85a6731b",
   "metadata": {},
   "outputs": [],
   "source": [
    "import matplotlib.pyplot as plt\n",
    "import random\n",
    "import numpy as np\n",
    "import scipy.stats as st"
   ]
  },
  {
   "cell_type": "markdown",
   "id": "406e1374",
   "metadata": {},
   "source": [
    "## Relationships\n",
    "\n",
    "\n",
    "The LLN gives conditions under which sample moments converge to population moments as sample size increases.\n",
    "\n",
    "The CLT provides information about the rate at which sample moments converge to population moments as sample size increases.\n",
    "\n",
    "(lln_mr)=\n",
    "## LLN\n",
    "\n",
    "```{index} single: Law of Large Numbers\n",
    "```\n",
    "\n",
    "We begin with the law of large numbers, which tells us when sample averages\n",
    "will converge to their population means.\n",
    "\n",
    "### The LLN in Action\n",
    "\n",
    "Let's see an example of the LLN in action before we go further.\n",
    "\n",
    "Consider a [Bernoulli random variable](https://en.wikipedia.org/wiki/Bernoulli_distribution) $X$ with parameter $p$.\n",
    "\n",
    "This means that $X$ takes values in $\\{0,1\\}$ and $\\mathbb P\\{X=1\\} = p$.\n",
    "\n",
    "We can think of drawing $X$ as tossing a biased coin where\n",
    "\n",
    "* the coin falls on \"heads\" with probability $p$ and\n",
    "* we set $X=1$ if the coin is \"heads\" and zero otherwise.\n",
    "\n",
    "The mean of $X$ is \n",
    "\n",
    "$$\n",
    "\\mathbb E X = 0 \\cdot \\mathbb P\\{X=0\\} + 1 \\cdot \\mathbb P\\{X=1\\} = \\mathbb P\\{X=1\\} = p\n",
    "$$\n",
    "\n",
    "We can generate a draw of $X$ with `scipy.stats` (imported as `st`) as follows:"
   ]
  },
  {
   "cell_type": "code",
   "execution_count": 2,
   "id": "821a73c3",
   "metadata": {},
   "outputs": [
    {
     "name": "stdout",
     "output_type": "stream",
     "text": [
      "0\n"
     ]
    }
   ],
   "source": [
    "p = 0.8\n",
    "X = st.bernoulli.rvs(p)\n",
    "print(X)"
   ]
  },
  {
   "cell_type": "markdown",
   "id": "c3146d09",
   "metadata": {},
   "source": [
    "In this setting, the LLN tells us if we flip the coin many times, the fraction of heads that we see will be close to $p$.\n",
    "\n",
    "Let's check this:"
   ]
  },
  {
   "cell_type": "code",
   "execution_count": 3,
   "id": "d95827fd",
   "metadata": {},
   "outputs": [
    {
     "name": "stdout",
     "output_type": "stream",
     "text": [
      "0.800251\n"
     ]
    }
   ],
   "source": [
    "n = 1_000_000\n",
    "X_draws = st.bernoulli.rvs(p, size=n)\n",
    "print(X_draws.mean())  # count the number of 1's and divide by n"
   ]
  },
  {
   "cell_type": "markdown",
   "id": "e95b76a1",
   "metadata": {},
   "source": [
    "If we change $p$ the claim still holds:"
   ]
  },
  {
   "cell_type": "code",
   "execution_count": 4,
   "id": "404dbe87",
   "metadata": {},
   "outputs": [
    {
     "name": "stdout",
     "output_type": "stream",
     "text": [
      "0.299723\n"
     ]
    }
   ],
   "source": [
    "p = 0.3\n",
    "X_draws = st.bernoulli.rvs(p, size=n)\n",
    "print(X_draws.mean())"
   ]
  },
  {
   "cell_type": "markdown",
   "id": "78db68f3",
   "metadata": {},
   "source": [
    "Let's connect this to the discussion above, where we said the sample average converges to the \"population mean\".\n",
    "\n",
    "The population mean is the mean in an infinite sample, which equals the true mean, or $\\mathbb E X$.\n",
    "\n",
    "The sample mean of the draws $X_1, \\ldots, X_n$ is\n",
    "\n",
    "$$\n",
    "\\bar X_n := \\frac{1}{n} \\sum_{i=1}^n X_i\n",
    "$$\n",
    "\n",
    "which, in this case, is the fraction of draws that equal one (the number of heads divided by $n$).\n",
    "\n",
    "Thus, the LLN tells us that\n",
    "\n",
    "```{math}\n",
    ":label: exp\n",
    "\n",
    "\\bar X_n \\to \\mathbb E X = p\n",
    "\\qquad (n \\to \\infty)\n",
    "```\n",
    "\n",
    "This is exactly what we illustrated in the code above."
   ]
  },
  {
   "cell_type": "markdown",
   "id": "3faf5ee2",
   "metadata": {
    "jp-MarkdownHeadingCollapsed": true,
    "tags": []
   },
   "source": [
    "(lln_ksl)=\n",
    "### Statement of the LLN\n",
    "\n",
    "Let's state the LLN more carefully.\n",
    "\n",
    "The traditional version of the law of large numbers concerns independent and identically distributed (IID) random variables.\n",
    "\n",
    "Let $X_1, \\ldots, X_n$ be independent and identically distributed random variables.\n",
    "\n",
    "This random variables can be continuous or discrete.\n",
    "\n",
    "For simplicity we will assume they are continuous and we let $f$ denote their density function, so that, for any $i$ in $\\{1, \\ldots, n\\}$\n",
    "\n",
    "\n",
    "$$ \n",
    "    \\mathbb P\\{a \\leq X_i \\leq b\\} = \\int_a^b f(x) dx\n",
    "$$\n",
    "\n",
    "(For the discrete case, we need to replace densities with probability mass functions and integrals with sums.)\n",
    "\n",
    "Let $\\mu$ denote the common mean of this sample:\n",
    "\n",
    "$$\n",
    "    \\mu := \\mathbb E X = \\int_{-\\infty}^{\\infty} x f(dx)\n",
    "$$\n",
    "\n",
    "In addition, let\n",
    "\n",
    "$$\n",
    "\\bar X_n := \\frac{1}{n} \\sum_{i=1}^n X_i\n",
    "$$\n",
    "\n",
    "TODO -- use a theorem environment (```{prf:theorem}...```)\n",
    "\n",
    "The law of large numbers (specifically, Kolmogorov's strong law) states that, if $\\mathbb E |X|$ is finite, then\n",
    "\n",
    "```{math}\n",
    ":label: lln_as\n",
    "\n",
    "\\mathbb P \\left\\{ \\bar X_n \\to \\mu \\text{ as } n \\to \\infty \\right\\} = 1\n",
    "```\n",
    "\n",
    "### Comments on the Theorem\n",
    "\n",
    "What does this last expression mean?\n",
    "\n",
    "Let's think about it from a simulation perspective, imagining for a moment that\n",
    "our computer can generate perfect random samples (which of course [it can't](https://en.wikipedia.org/wiki/Pseudorandom_number_generator)).\n",
    "\n",
    "Let's also imagine that we can generate infinite sequences so that the statement $\\bar X_n \\to \\mu$ can be evaluated.\n",
    "\n",
    "In this setting, {eq}`lln_as` should be interpreted as meaning that the probability of the computer producing a sequence where $\\bar X_n \\to \\mu$ fails to occur\n",
    "is zero."
   ]
  },
  {
   "cell_type": "markdown",
   "id": "72ef82c2",
   "metadata": {
    "tags": []
   },
   "source": [
    "### Illustration\n",
    "\n",
    "```{index} single: Law of Large Numbers; Illustration\n",
    "```\n",
    "\n",
    "Let's now illustrate the LLN using simulation.\n",
    "\n",
    "When we illustrate it, we will use a key idea: the sample mean $\\bar X$ is itself a random variable.\n",
    "\n",
    "In a sense this is obvious but it can be easy to forget.\n",
    "\n",
    "The reason $\\bar X_n$ is a random variable is that it's a function of the random variables $X_1, \\ldots, X_n$.\n",
    "\n",
    "What we are going to do now is \n",
    "\n",
    "1. Pick some distribution to draw each $X_i$ from  \n",
    "1. Set $n$ to some large number\n",
    "1. Generate the draws $X_1, \\ldots, X_n$\n",
    "1. Calculate the sample mean $\\bar X_n$ and record its value in an array `sample_means`\n",
    "1. Go to step 3\n",
    "\n",
    "We will continue the loop over steps 3-4 a total of $m$ times, where $m$ is some large integer.\n",
    "\n",
    "The array `sample_means` will now contain $m$ draws of the random variable $\\bar X_n$.\n",
    "\n",
    "If we histogram these observations of $\\bar X_n$, we should see that they are clustered around the population mean $\\mathbb E X$.\n",
    "\n",
    "Moreover, if we repeat the exercise with a larger value of $n$, we should see that the observations are even more tightly clustered around the population mean.\n",
    "\n",
    "This is, in essence, what the LLN is telling us.\n",
    "\n",
    "Let's run some simulations to visualize LLN\n",
    "\n",
    "Let's"
   ]
  },
  {
   "cell_type": "code",
   "execution_count": 11,
   "id": "9299240a",
   "metadata": {},
   "outputs": [],
   "source": [
    "def generate_histogram(X_distribution, n, m):\n",
    "    fig, ax = plt.subplots(figsize=(10, 6))\n",
    "\n",
    "    def draw_means(X_distribution, n):\n",
    "\n",
    "        # Step 3: Generate n draws: X_1, ..., X_n\n",
    "        X_samples = X_distribution.rvs(size=n)\n",
    "\n",
    "        # Step 4: Calculate sample mean\n",
    "        return np.mean(X_samples)\n",
    "    \n",
    "    # Step 5: Loop m times\n",
    "    sample_means = [draw_means(X_distribution, n) for i in range(m)]\n",
    "    print(f'The mean of sample mean is {round(np.mean(sample_means),2)}')\n",
    "    \n",
    "    # Generate a histogram\n",
    "    ax.hist(sample_means, bins=30, alpha=0.5, density=True)\n",
    "    mu = X_distribution.mean()\n",
    "    if not np.isnan(mu):\n",
    "        ax.axvline(x=mu, ls=\"--\", lw=3, label=fr\"$\\mu = {mu}$\")\n",
    "        \n",
    "    ax.set_xlim(min(sample_means), max(sample_means))\n",
    "    ax.set_xlabel(r'$\\bar x$')\n",
    "    ax.set_ylabel('Density')\n",
    "    ax.legend()\n",
    "    plt.show()"
   ]
  },
  {
   "cell_type": "code",
   "execution_count": 14,
   "id": "0b0da74f-1f3d-4b75-bb4a-86c85c4539bb",
   "metadata": {},
   "outputs": [
    {
     "name": "stdout",
     "output_type": "stream",
     "text": [
      "The mean of sample mean is 5.0\n"
     ]
    },
    {
     "data": {
      "image/png": "[encoded data removed]",
      "text/plain": [
       "<Figure size 1000x600 with 1 Axes>"
      ]
     },
     "metadata": {},
     "output_type": "display_data"
    }
   ],
   "source": [
    "#Step 1: Pick some distribution to draw each $X_i$ from  \n",
    "#Step 2: Set $n$ to some large number\n",
    "generate_histogram(st.norm(loc=5, scale=2), n=50_000, m=1000)"
   ]
  },
  {
   "cell_type": "markdown",
   "id": "8dd3b5c4-e6b5-4df6-82e0-5b1d96e06f82",
   "metadata": {},
   "source": [
    "We can see that the distribution of $\\bar X$ is clustered around $\\mathbb E X$ as expected.\n",
    "\n",
    "We can increase values for `n` and `m` to see how the distribution changes by slightly changing the code to see the changes with an increasing $n$"
   ]
  },
  {
   "cell_type": "code",
   "execution_count": null,
   "id": "597a28c8-046e-44d4-b4ce-4bf1d580601c",
   "metadata": {},
   "outputs": [],
   "source": [
    "def generate_multiple_hist(X_distribution, ns, m, log_scale=False):\n",
    "    _, ax = plt.subplots(figsize=(10, 6))\n",
    "\n",
    "    def draw_means(X_distribution, n):\n",
    "        X_samples = X_distribution.rvs(size=n)\n",
    "        return np.mean(X_samples)\n",
    "    \n",
    "    for n in ns:\n",
    "        sample_means = [draw_means(X_distribution, n) for i in range(m)]\n",
    "        if log_scale:\n",
    "            plt.xscale('symlog')\n",
    "        ax.hist(sample_means, bins=60, alpha=0.4, density=True, label=fr'$n = {n}$')\n",
    "        \n",
    "    mu = X_distribution.mean()\n",
    "    if not np.isnan(mu):\n",
    "        ax.axvline(x=mu, ls=\"--\", lw=3, label=fr\"$\\mu = {mu}$\")\n",
    "        \n",
    "    ax.set_xlim(min(sample_means), max(sample_means)) \n",
    "    ax.set_xlabel(r'$\\bar x$')\n",
    "    ax.set_ylabel('Density')\n",
    "    ax.set(title=fr'$n = {n}, m = {m}$')\n",
    "    ax.legend()\n",
    "    plt.show()"
   ]
  },
  {
   "cell_type": "code",
   "execution_count": null,
   "id": "7dbed08d-3560-4f6d-8bb9-7c3ee75bab43",
   "metadata": {},
   "outputs": [],
   "source": [
    "generate_multiple_hist(st.norm(loc=5, scale=2), ns=[20_000, 50_000, 100_000], m=10_000)"
   ]
  },
  {
   "cell_type": "markdown",
   "id": "f8c6e4b4-344b-497e-bc71-ecac322be3c8",
   "metadata": {},
   "source": [
    "We see that the histogram gradually converge to $\\mu$.\n",
    "\n",
    "You can imagine the result when extrapolating this trend for $(n \\to \\infty)$."
   ]
  },
  {
   "cell_type": "markdown",
   "id": "22987bd7",
   "metadata": {},
   "source": [
    "## Breaking the LLN\n",
    "\n",
    "We have to pay attention to the assumptions in the statement of the LLN when we apply it.\n",
    "\n",
    "As indicated by {eq}`lln_as`, LLN can break when $\\mathbb E |X|$ is not finite or is not well defined.\n",
    "\n",
    "We can demonstrate this using a simple simulation using a [Cauchy distribution](https://en.wikipedia.org/wiki/Cauchy_distribution) for which it does not have a well-defined $\\mu$."
   ]
  },
  {
   "cell_type": "markdown",
   "id": "dddea715-be50-4d63-82e7-b51115b2c9cf",
   "metadata": {},
   "source": [
    "We lost the convergence we have seen before with normal distribution "
   ]
  },
  {
   "cell_type": "code",
   "execution_count": 15,
   "id": "dda56a48-d06c-4ed4-9c7e-180d843d1d63",
   "metadata": {},
   "outputs": [
    {
     "data": {
      "image/png": "[encoded data removed]",
      "text/plain": [
       "<Figure size 1500x600 with 2 Axes>"
      ]
     },
     "metadata": {},
     "output_type": "display_data"
    }
   ],
   "source": [
    "fig, axes = plt.subplots(1, 2, figsize=(15, 6))\n",
    "\n",
    "def scattered_mean(distribution, burn_in, n, jump, ax, title, color, ylog=False):\n",
    "    \n",
    "    #Set a jump to reduce simulation complexity\n",
    "    sample_means = [np.mean(distribution.rvs(size=i)) \n",
    "                    for i in range(burn_in, n+1, jump)]\n",
    "    \n",
    "    ax.scatter(range(burn_in, n+1, jump), sample_means, s=10, c=color)\n",
    "    if ylog:\n",
    "        ax.set_yscale(\"symlog\")\n",
    "    ax.set_title(title, size=10)\n",
    "    ax.set_xlabel(r\"$n$\", size=12)\n",
    "    ax.set_ylabel(r\"$\\bar x$\", size=12)\n",
    "    yabs_max = max(ax.get_ylim(), key=abs)\n",
    "    ax.set_ylim(ymin=-yabs_max, ymax=yabs_max)\n",
    "    return ax\n",
    "\n",
    "scattered_mean(distribution=st.cauchy(), \n",
    "                         burn_in=1000, \n",
    "                         n=1_000_000, \n",
    "                         ax=axes[0],\n",
    "                         jump=2000,\n",
    "                         title=\"Cauchy Distribution\",\n",
    "                         color='#1f77b4',\n",
    "                         ylog=True)\n",
    "\n",
    "scattered_mean(distribution=st.norm(), \n",
    "                         burn_in=1000, \n",
    "                         n=1_000_000,\n",
    "                         ax=axes[1],\n",
    "                         jump=2000,\n",
    "                         title=\"Normal Distribution\",\n",
    "                         color='#ff7f0e')\n",
    "\n",
    "fig.suptitle('Sample Mean with Different Sample Size')\n",
    "plt.show()"
   ]
  },
  {
   "cell_type": "markdown",
   "id": "4e126f26-eb95-4c3c-b579-00edb27c826a",
   "metadata": {},
   "source": [
    "We can see that unlike normal distribution, Cauchy distribution does not have a convergence that LLN implies.\n",
    "\n",
    "It is also not hard to conjecture that LLN can be broken when the IID assumption is violated."
   ]
  },
  {
   "cell_type": "markdown",
   "id": "d9f61c65-b2d8-4989-95dd-0837b635e9ff",
   "metadata": {},
   "source": [
    "Let's go through a very simple example where LLN fails with IID violated:\n",
    "\n",
    "Assume\n",
    "\n",
    "$$\n",
    "X_1 \\sim \\mathcal{N}(0,1)\n",
    "$$\n",
    "\n",
    "In addition, assume\n",
    "\n",
    "$$\n",
    "X_t = X_{t-1} \\quad \\text{for} \\quad t = 2, ..., n\n",
    "$$\n",
    "\n",
    "We can then see that \n",
    "\n",
    "$$\n",
    "\\bar X_n := \\frac{1}{T} \\sum_{t=1}^n X_i  = X_1 \\sim \\mathcal{N}(0,1)\n",
    "$$\n",
    "\n",
    "Therefore, the distribution of mean of X follows $\\mathcal{N}(0,1)$.\n",
    "\n",
    "However,\n",
    "\n",
    "$$\n",
    "\\mathbb E X_t = \\mathbb E X_1 = 0\n",
    "$$\n",
    "\n",
    "which violates {eq}`exp`, and thus breaks LLN.\n",
    "\n",
    "```{note}\n",
    "Although in this case, the violation of IID breaks LLN, it is not always the case for correlated data (TODO: Link to MC Lecture)\n",
    "```"
   ]
  },
  {
   "cell_type": "markdown",
   "id": "16435333-a22f-4cd5-8d90-699e813585f9",
   "metadata": {
    "tags": []
   },
   "source": [
    "## LLN and CLT\n",
    "\n",
    "## Overview\n",
    "\n",
    "This lecture illustrates two of the most important theorems of probability and statistics: The\n",
    "law of large numbers (LLN) and the central limit theorem (CLT).\n",
    "\n",
    "These beautiful theorems lie behind many of the most fundamental results in econometrics and quantitative economic modeling.\n",
    "\n",
    "The lecture is based around simulations that show the LLN and CLT in action.\n",
    "\n",
    "We also demonstrate how the LLN and CLT break down when the assumptions they are based on do not hold.\n",
    "\n",
    "In addition, we examine several useful extensions of the classical theorems, such as\n",
    "\n",
    "* The delta method, for smooth functions of random variables, and\n",
    "* the multivariate case.\n",
    "\n",
    "Some of these extensions are presented as exercises.\n",
    "\n",
    "We'll need the following imports:"
   ]
  },
  {
   "cell_type": "markdown",
   "id": "c435af34-8366-410b-b4d8-793665d8dd0b",
   "metadata": {},
   "source": [
    "In this case, since the samples are neither drawn independently nor identically distributed, and the converging trend towards $\\mu$ is not found."
   ]
  },
  {
   "cell_type": "markdown",
   "id": "59934170",
   "metadata": {},
   "source": [
    "## CLT\n",
    "\n",
    "```{index} single: Central Limit Theorem\n",
    "```\n",
    "\n",
    "Next, we turn to the central limit theorem, which tells us about the distribution of the deviation between sample averages and population means.\n",
    "\n",
    "### Statement of the Theorem\n",
    "\n",
    "The central limit theorem is one of the most remarkable results in all of mathematics.\n",
    "\n",
    "In the IID setting, it tells us the following:\n",
    "\n",
    "TODO use a theorem environment (```{prf:theorem...```)\n",
    "\n",
    "(statement_clt)=\n",
    "If the sequence $X_1, \\ldots, X_n$ is IID, with common mean\n",
    "$\\mu$ and common variance $\\sigma^2 \\in (0, \\infty)$, then\n",
    "\n",
    "```{math}\n",
    ":label: lln_clt\n",
    "\n",
    "\\sqrt{n} ( \\bar X_n - \\mu ) \\stackrel { d } {\\to} N(0, \\sigma^2)\n",
    "\\quad \\text{as} \\quad\n",
    "n \\to \\infty\n",
    "```\n",
    "\n",
    "Here $\\stackrel { d } {\\to} N(0, \\sigma^2)$ indicates [convergence in distribution](https://en.wikipedia.org/wiki/Convergence_of_random_variables#Convergence_in_distribution) to a centered (i.e, zero mean) normal with standard deviation $\\sigma$.\n",
    "\n",
    "### Intuition\n",
    "\n",
    "```{index} single: Central Limit Theorem; Intuition\n",
    "```\n",
    "\n",
    "The striking implication of the CLT is that for **any** distribution with\n",
    "finite second moment, the simple operation of adding independent\n",
    "copies **always** leads to a Gaussian curve."
   ]
  },
  {
   "cell_type": "markdown",
   "id": "928cdff7",
   "metadata": {},
   "source": [
    "### Simulation 1\n",
    "\n",
    "Since the CLT seems almost magical, running simulations that verify its implications is one good way to build intuition.\n",
    "\n",
    "To this end, we now perform the following simulation\n",
    "\n",
    "1. Choose an arbitrary distribution $F$ for the underlying observations $X_i$.\n",
    "1. Generate independent draws of $Y_n := \\sqrt{n} ( \\bar X_n - \\mu )$.\n",
    "1. Use these draws to compute some measure of their distribution --- such as a histogram.\n",
    "1. Compare the latter to $N(0, \\sigma^2)$.\n",
    "\n",
    "Here's some code that does exactly this for the exponential distribution\n",
    "$F(x) = 1 - e^{- \\lambda x}$.\n",
    "\n",
    "(Please experiment with other choices of $F$, but remember that, to conform with the conditions of the CLT, the distribution must have a finite second moment.)\n",
    "\n",
    "(sim_one)="
   ]
  },
  {
   "cell_type": "code",
   "execution_count": null,
   "id": "c6444237",
   "metadata": {},
   "outputs": [],
   "source": [
    "# Set parameters\n",
    "n = 250                  # Choice of n\n",
    "k = 1_000_000               # Number of draws of Y_n\n",
    "distribution = st.expon(2)  # Exponential distribution, λ = 1/2\n",
    "μ, σ = distribution.mean(), distribution.std()\n",
    "\n",
    "# Draw underlying RVs. Each row contains a draw of X_1,..,X_n\n",
    "data = distribution.rvs((k, n))\n",
    "# Compute mean of each row, producing k draws of \\bar X_n\n",
    "sample_means = data.mean(axis=1)\n",
    "# Generate observations of Y_n\n",
    "Y = np.sqrt(n) * (sample_means - μ)\n",
    "\n",
    "# Plot\n",
    "fig, ax = plt.subplots(figsize=(10, 6))\n",
    "xmin, xmax = -3 * σ, 3 * σ\n",
    "ax.set_xlim(xmin, xmax)\n",
    "ax.hist(Y, bins=60, alpha=0.4, density=True)\n",
    "xgrid = np.linspace(xmin, xmax, 200)\n",
    "ax.plot(xgrid, st.norm.pdf(xgrid, scale=σ), 'k-', lw=2, label='$N(0, \\sigma^2)$')\n",
    "ax.legend()\n",
    "\n",
    "plt.show()"
   ]
  },
  {
   "cell_type": "markdown",
   "id": "48f02fa4",
   "metadata": {},
   "source": [
    "(Notice the absence of for loops --- every operation is vectorized, meaning that the major calculations are all shifted to optimized C code.)\n",
    "\n",
    "The fit to the normal density is already tight and can be further improved by increasing `n`."
   ]
  },
  {
   "cell_type": "markdown",
   "id": "7229ffd3",
   "metadata": {},
   "source": [
    "## Exercises"
   ]
  },
  {
   "cell_type": "markdown",
   "id": "b49befe8",
   "metadata": {},
   "source": [
    "## Ex 1"
   ]
  },
  {
   "cell_type": "markdown",
   "id": "57710f7b",
   "metadata": {},
   "source": [
    "As the reader to rerun the last simulation and experiment with other specifications of $F$ that have finite second moment, making sure that they"
   ]
  },
  {
   "cell_type": "markdown",
   "id": "2ed84c17",
   "metadata": {},
   "source": [
    "Although NumPy doesn't give us a `bernoulli` function, we can generate a draw of $X$ using NumPy via"
   ]
  },
  {
   "cell_type": "code",
   "execution_count": null,
   "id": "1b300696",
   "metadata": {},
   "outputs": [],
   "source": [
    "U = np.random.rand()\n",
    "X = 1 if U < p else 0\n",
    "print(X)"
   ]
  },
  {
   "cell_type": "markdown",
   "id": "dcd111f0",
   "metadata": {},
   "source": [
    "Explain why this provides a random variable $X$ with the right distribution."
   ]
  },
  {
   "cell_type": "markdown",
   "id": "c7564cf9",
   "metadata": {},
   "source": [
    "Solution:"
   ]
  },
  {
   "cell_type": "markdown",
   "id": "2fa6cb25",
   "metadata": {},
   "source": [
    "We can write $X$ as $X = \\mathbf 1\\{U < p\\}$ where $\\mathbf 1$ is the [indicator function](https://en.wikipedia.org/wiki/Indicator_function) (i.e., 1 if the statement is true and zero otherwise).\n",
    "\n",
    "Here we generated a uniform draw $U$ on $[0,1]$ and then used the fact that\n",
    "\n",
    "$$\n",
    "\\mathbb P\\{0 \\leq U < p\\} = p - 0 = p\n",
    "$$\n",
    "\n",
    "This means that $X = \\mathbf 1\\{U < p\\}$ has the right distribution."
   ]
  },
  {
   "cell_type": "markdown",
   "id": "00e14b9a",
   "metadata": {},
   "source": [
    "```{solution-end}\n",
    "```"
   ]
  }
 ],
 "metadata": {
  "kernelspec": {
   "display_name": "Python 3 (ipykernel)",
   "language": "python",
   "name": "python3"
  },
  "language_info": {
   "codemirror_mode": {
    "name": "ipython",
    "version": 3
   },
   "file_extension": ".py",
   "mimetype": "text/x-python",
   "name": "python",
   "nbconvert_exporter": "python",
   "pygments_lexer": "ipython3",
   "version": "3.9.15"
  }
 },
 "nbformat": 4,
 "nbformat_minor": 5
}
